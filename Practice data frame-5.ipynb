{
 "cells": [
  {
   "cell_type": "code",
   "execution_count": 2,
   "metadata": {},
   "outputs": [],
   "source": [
    "from pyspark.sql import SparkSession\n",
    "from pyspark import SparkContext, SparkConf\n",
    "from pyspark.sql.functions import window,column,desc,col,instr,expr, pow,translate,lit\n",
    "from pyspark.sql import Row\n",
    "from pyspark.sql.functions import *\n",
    "from pyspark.sql.types import *\n",
    "from pyspark.sql.functions import unix_timestamp, from_unixtime\n",
    "import pandas as pd\n",
    "\n",
    "spark = SparkSession \\\n",
    "    .builder \\\n",
    "    .appName(\"Foo\") \\\n",
    "    .config(\"spark.executor.memory\", \"1g\") \\\n",
    "    .config(\"spark.driver.memory\", \"1g\") \\\n",
    "    .getOrCreate()\n",
    "import warnings\n",
    "warnings.filterwarnings('ignore')"
   ]
  },
  {
   "cell_type": "code",
   "execution_count": 3,
   "metadata": {},
   "outputs": [],
   "source": [
    "# print all the outputs in a cell\n",
    "from IPython.core.interactiveshell import InteractiveShell\n",
    "InteractiveShell.ast_node_interactivity = \"all\""
   ]
  },
  {
   "cell_type": "markdown",
   "metadata": {},
   "source": [
    "### Penalties: You will incur penalties if:\n",
    "\n",
    "* Your code is wrong\n",
    "* Your code would not work on different data ( don't use any hard-coded code)\n",
    "* Your code is unnecessarily slow (you use a for loop, or you use DataFrame.apply unnecessarily, etc)\n",
    "* You answer is composed of more than one output, unless explicitly permitted"
   ]
  },
  {
   "cell_type": "markdown",
   "metadata": {},
   "source": [
    "### Data Set:  San Francisco Crime Data"
   ]
  },
  {
   "cell_type": "code",
   "execution_count": 4,
   "metadata": {},
   "outputs": [
    {
     "name": "stdout",
     "output_type": "stream",
     "text": [
      "+-------------------+--------------+--------------------+---------+----------+--------------+--------------------+\n",
      "|              Dates|      Category|            Descript|DayOfWeek|PdDistrict|    Resolution|             Address|\n",
      "+-------------------+--------------+--------------------+---------+----------+--------------+--------------------+\n",
      "|2015-05-13 23:53:00|      WARRANTS|      WARRANT ARREST|Wednesday|  NORTHERN|ARREST, BOOKED|  OAK ST / LAGUNA ST|\n",
      "|2015-05-13 23:53:00|OTHER OFFENSES|TRAFFIC VIOLATION...|Wednesday|  NORTHERN|ARREST, BOOKED|  OAK ST / LAGUNA ST|\n",
      "|2015-05-13 23:33:00|OTHER OFFENSES|TRAFFIC VIOLATION...|Wednesday|  NORTHERN|ARREST, BOOKED|VANNESS AV / GREE...|\n",
      "+-------------------+--------------+--------------------+---------+----------+--------------+--------------------+\n",
      "only showing top 3 rows\n",
      "\n"
     ]
    }
   ],
   "source": [
    "df = spark.read.format(\"csv\").option(\"header\", \"true\").option(\"inferSchema\", \"true\").option(\"delimiter\", \",\")\\\n",
    ".option(\"dateFormat\", \"MM/dd/YYYY HH:mm\")\\\n",
    ".load(\"C:/Users/ramya/Desktop/Santa Clara University/Q3/Pyspark/SF_crime_1.csv\")\n",
    "\n",
    "df.show(3)"
   ]
  },
  {
   "cell_type": "code",
   "execution_count": 4,
   "metadata": {},
   "outputs": [
    {
     "data": {
      "text/plain": [
       "878049"
      ]
     },
     "execution_count": 4,
     "metadata": {},
     "output_type": "execute_result"
    }
   ],
   "source": [
    "df.count()"
   ]
  },
  {
   "cell_type": "markdown",
   "metadata": {},
   "source": [
    "## Q1"
   ]
  },
  {
   "cell_type": "markdown",
   "metadata": {},
   "source": [
    "### Q1.1, How many crime instances this data set covers? (2.5 pts)"
   ]
  },
  {
   "cell_type": "code",
   "execution_count": 5,
   "metadata": {},
   "outputs": [
    {
     "data": {
      "text/plain": [
       "878049"
      ]
     },
     "execution_count": 5,
     "metadata": {},
     "output_type": "execute_result"
    }
   ],
   "source": [
    "df.count()"
   ]
  },
  {
   "cell_type": "markdown",
   "metadata": {},
   "source": [
    "### Q1.2, Is there any Missing data /NaN exists? (2.5 pts)"
   ]
  },
  {
   "cell_type": "code",
   "execution_count": 6,
   "metadata": {},
   "outputs": [
    {
     "name": "stdout",
     "output_type": "stream",
     "text": [
      "+-----+--------+--------+---------+----------+----------+-------+\n",
      "|Dates|Category|Descript|DayOfWeek|PdDistrict|Resolution|Address|\n",
      "+-----+--------+--------+---------+----------+----------+-------+\n",
      "|    0|       0|       0|        0|         0|         0|      0|\n",
      "+-----+--------+--------+---------+----------+----------+-------+\n",
      "\n"
     ]
    }
   ],
   "source": [
    "df.select([sum(when(col(c).isNull(),1).otherwise(0)).alias(c) for c in df.columns]).show()"
   ]
  },
  {
   "cell_type": "markdown",
   "metadata": {},
   "source": [
    "## Q2"
   ]
  },
  {
   "cell_type": "markdown",
   "metadata": {},
   "source": [
    "### Q2.1, In this data set, how many different crime categories are there?  (2.5 pts)"
   ]
  },
  {
   "cell_type": "code",
   "execution_count": 7,
   "metadata": {},
   "outputs": [
    {
     "data": {
      "text/plain": [
       "39"
      ]
     },
     "execution_count": 7,
     "metadata": {},
     "output_type": "execute_result"
    }
   ],
   "source": [
    "df.select(col(\"Category\")).distinct().count()"
   ]
  },
  {
   "cell_type": "markdown",
   "metadata": {},
   "source": [
    "### Q2.2, Follow last question, list the most frequent happen top 5 ones with the crime name and their instances count.   (2.5 pts)"
   ]
  },
  {
   "cell_type": "code",
   "execution_count": 10,
   "metadata": {},
   "outputs": [
    {
     "name": "stdout",
     "output_type": "stream",
     "text": [
      "+--------------+------+\n",
      "|      Category| count|\n",
      "+--------------+------+\n",
      "| LARCENY/THEFT|174900|\n",
      "|OTHER OFFENSES|126182|\n",
      "|  NON-CRIMINAL| 92304|\n",
      "|       ASSAULT| 76876|\n",
      "| DRUG/NARCOTIC| 53971|\n",
      "+--------------+------+\n",
      "only showing top 5 rows\n",
      "\n"
     ]
    }
   ],
   "source": [
    "df.groupBy(\"Category\").count().orderBy(desc(\"count\")).show(5)"
   ]
  },
  {
   "cell_type": "markdown",
   "metadata": {},
   "source": [
    "## Q3"
   ]
  },
  {
   "cell_type": "markdown",
   "metadata": {},
   "source": [
    "### Q3.1, What's the first(earliest) date this data set starts? (1.5 pts)"
   ]
  },
  {
   "cell_type": "code",
   "execution_count": 11,
   "metadata": {},
   "outputs": [
    {
     "name": "stdout",
     "output_type": "stream",
     "text": [
      "root\n",
      " |-- Dates: timestamp (nullable = true)\n",
      " |-- Category: string (nullable = true)\n",
      " |-- Descript: string (nullable = true)\n",
      " |-- DayOfWeek: string (nullable = true)\n",
      " |-- PdDistrict: string (nullable = true)\n",
      " |-- Resolution: string (nullable = true)\n",
      " |-- Address: string (nullable = true)\n",
      "\n"
     ]
    }
   ],
   "source": [
    "df.printSchema()"
   ]
  },
  {
   "cell_type": "code",
   "execution_count": 30,
   "metadata": {},
   "outputs": [
    {
     "name": "stdout",
     "output_type": "stream",
     "text": [
      "+-------------------+\n",
      "|         min(Dates)|\n",
      "+-------------------+\n",
      "|2003-01-06 00:01:00|\n",
      "+-------------------+\n",
      "\n"
     ]
    }
   ],
   "source": [
    "df.agg(min(\"Dates\")).show()"
   ]
  },
  {
   "cell_type": "markdown",
   "metadata": {},
   "source": [
    "### Q3.2, What's the last date? (1.5 pts)"
   ]
  },
  {
   "cell_type": "code",
   "execution_count": 42,
   "metadata": {
    "scrolled": false
   },
   "outputs": [
    {
     "data": {
      "text/plain": [
       "datetime.timedelta(days=4510, seconds=85920)"
      ]
     },
     "execution_count": 42,
     "metadata": {},
     "output_type": "execute_result"
    }
   ],
   "source": [
    "df.agg(max(\"Dates\")).collect()[0][0]-df.agg(min(\"Dates\")).collect()[0][0]"
   ]
  },
  {
   "cell_type": "markdown",
   "metadata": {},
   "source": [
    "### Q3.3, Total it covers how many days? (2 pts)"
   ]
  },
  {
   "cell_type": "markdown",
   "metadata": {},
   "source": [
    "Or.."
   ]
  },
  {
   "cell_type": "code",
   "execution_count": 19,
   "metadata": {},
   "outputs": [
    {
     "data": {
      "text/plain": [
       "4510"
      ]
     },
     "execution_count": 19,
     "metadata": {},
     "output_type": "execute_result"
    }
   ],
   "source": [
    "(df.index[0] - df.index[-1]).days"
   ]
  },
  {
   "cell_type": "markdown",
   "metadata": {},
   "source": [
    "## Q4"
   ]
  },
  {
   "cell_type": "markdown",
   "metadata": {},
   "source": [
    "### Q4.1, If converts PdDistrict into dummy columns. after the conversion, how many columns this new data frame will have ? (2.5 pts)\n",
    "(Note: Use a new name for this newly generated dataframe)"
   ]
  },
  {
   "cell_type": "code",
   "execution_count": 35,
   "metadata": {},
   "outputs": [
    {
     "name": "stdout",
     "output_type": "stream",
     "text": [
      "+------+--------+--------+---------+----------+----------+-------+\n",
      "| Dates|Category|Descript|DayOfWeek|PdDistrict|Resolution|Address|\n",
      "+------+--------+--------+---------+----------+----------+-------+\n",
      "|389241|      39|     879|        7|        10|        17|  23228|\n",
      "+------+--------+--------+---------+----------+----------+-------+\n",
      "\n"
     ]
    }
   ],
   "source": [
    "df.select([countDistinct(c).alias(c) for c in df.columns]).show()"
   ]
  },
  {
   "cell_type": "markdown",
   "metadata": {},
   "source": [
    "### Q4.2, After PdDistrict got converted into dummy columns, which other column is the best candidate for further dummy conversion and why ?  (2.5 pts)"
   ]
  },
  {
   "cell_type": "markdown",
   "metadata": {},
   "source": [
    "The 'DaysOfWeek' will be the best candidate because it only introduce 7 new dummy columns. The df is still remain 'human readiable'."
   ]
  },
  {
   "cell_type": "markdown",
   "metadata": {},
   "source": [
    "## Q5"
   ]
  },
  {
   "cell_type": "markdown",
   "metadata": {},
   "source": [
    "### Q5.1, Which day of week has the most crime instances? (2.5 pts)"
   ]
  },
  {
   "cell_type": "code",
   "execution_count": 37,
   "metadata": {},
   "outputs": [
    {
     "data": {
      "text/plain": [
       "Row(DayOfWeek='Friday', count=133734)"
      ]
     },
     "execution_count": 37,
     "metadata": {},
     "output_type": "execute_result"
    }
   ],
   "source": [
    "df.groupBy(\"DayOfWeek\").count().orderBy(desc(\"count\")).first()"
   ]
  },
  {
   "cell_type": "markdown",
   "metadata": {},
   "source": [
    "### Q5.2, Based on last question( in that day of week), list the crime categories that has more than 10,000 instances. (list both the category and the count)  (2.5 pts)\n",
    "Note: do not use hardcoded day of week"
   ]
  },
  {
   "cell_type": "code",
   "execution_count": 46,
   "metadata": {},
   "outputs": [
    {
     "name": "stdout",
     "output_type": "stream",
     "text": [
      "+--------------+-----+\n",
      "|      Category|count|\n",
      "+--------------+-----+\n",
      "| LARCENY/THEFT|27104|\n",
      "|OTHER OFFENSES|18588|\n",
      "|  NON-CRIMINAL|13984|\n",
      "|       ASSAULT|11160|\n",
      "+--------------+-----+\n",
      "\n"
     ]
    }
   ],
   "source": [
    "df.filter(col(\"DayOfWeek\")==\"Friday\").groupBy(\"Category\").count().filter(col(\"count\")>=10000).orderBy(desc(\"count\")).show()"
   ]
  },
  {
   "cell_type": "markdown",
   "metadata": {},
   "source": [
    "## Q6"
   ]
  },
  {
   "cell_type": "markdown",
   "metadata": {},
   "source": [
    "### Q6.1, How many crime instances happened during year 2008? (2.5 pts)"
   ]
  },
  {
   "cell_type": "code",
   "execution_count": 50,
   "metadata": {},
   "outputs": [
    {
     "data": {
      "text/plain": [
       "70174"
      ]
     },
     "execution_count": 50,
     "metadata": {},
     "output_type": "execute_result"
    }
   ],
   "source": [
    "df.filter(year(col(\"Dates\"))==\"2008\" ).count()"
   ]
  },
  {
   "cell_type": "markdown",
   "metadata": {},
   "source": [
    "### Q6.2, Based on last question, how many of them are happened on Saturday? (2.5 pts)"
   ]
  },
  {
   "cell_type": "code",
   "execution_count": 53,
   "metadata": {},
   "outputs": [
    {
     "data": {
      "text/plain": [
       "10648"
      ]
     },
     "execution_count": 53,
     "metadata": {},
     "output_type": "execute_result"
    }
   ],
   "source": [
    "df.filter(year(col(\"Dates\"))==\"2008\").filter(col(\"DayOfWeek\")==\"Saturday\").count()"
   ]
  },
  {
   "cell_type": "markdown",
   "metadata": {},
   "source": [
    "## Q7"
   ]
  },
  {
   "cell_type": "markdown",
   "metadata": {},
   "source": [
    "### Q7.1, Which district has the highest DRUG/NARCOTIC problem? (5 pts)"
   ]
  },
  {
   "cell_type": "code",
   "execution_count": 55,
   "metadata": {},
   "outputs": [
    {
     "name": "stdout",
     "output_type": "stream",
     "text": [
      "+----------+-----+\n",
      "|PdDistrict|count|\n",
      "+----------+-----+\n",
      "|TENDERLOIN|17696|\n",
      "+----------+-----+\n",
      "only showing top 1 row\n",
      "\n"
     ]
    }
   ],
   "source": [
    "df.filter(df.Category=='DRUG/NARCOTIC').groupBy(\"PdDistrict\").count().orderBy(desc(\"count\")).show(1)"
   ]
  },
  {
   "cell_type": "markdown",
   "metadata": {},
   "source": [
    "### Q7.2, Based on last question, what's the ratio for DRUG/NARCOTIC instances compare to all crime instances in that district? (5 pts)"
   ]
  },
  {
   "cell_type": "code",
   "execution_count": 56,
   "metadata": {},
   "outputs": [
    {
     "data": {
      "text/plain": [
       "81809"
      ]
     },
     "execution_count": 56,
     "metadata": {},
     "output_type": "execute_result"
    }
   ],
   "source": [
    "df.filter(col(\"PdDistrict\")==\"TENDERLOIN\").count()"
   ]
  },
  {
   "cell_type": "code",
   "execution_count": 58,
   "metadata": {},
   "outputs": [
    {
     "data": {
      "text/plain": [
       "0.2163087190895867"
      ]
     },
     "execution_count": 58,
     "metadata": {},
     "output_type": "execute_result"
    }
   ],
   "source": [
    "df.filter(col(\"PdDistrict\")==\"TENDERLOIN\").filter(col(\"Category\")=='DRUG/NARCOTIC').count()/df.filter(col(\"PdDistrict\")==\"TENDERLOIN\").count()"
   ]
  },
  {
   "cell_type": "markdown",
   "metadata": {},
   "source": [
    "## Q8"
   ]
  },
  {
   "cell_type": "markdown",
   "metadata": {},
   "source": [
    "### Q8.1, Let's look into different Districts. What's the district with the highest crime count ?  (3 pts)"
   ]
  },
  {
   "cell_type": "code",
   "execution_count": 59,
   "metadata": {},
   "outputs": [
    {
     "name": "stdout",
     "output_type": "stream",
     "text": [
      "+----------+------+\n",
      "|PdDistrict| count|\n",
      "+----------+------+\n",
      "|  SOUTHERN|157182|\n",
      "+----------+------+\n",
      "only showing top 1 row\n",
      "\n"
     ]
    }
   ],
   "source": [
    "df.groupBy(\"PdDistrict\").count().orderBy(desc(\"count\")).show(1)"
   ]
  },
  {
   "cell_type": "markdown",
   "metadata": {},
   "source": [
    "### Q8.2, Total how many districts have the unresolved rate higher than the average unresolved rate? (3 pts)\n",
    "(hint: unresolved equal to NONE in Resolution)"
   ]
  },
  {
   "cell_type": "code",
   "execution_count": 62,
   "metadata": {},
   "outputs": [],
   "source": [
    "avg_rate=df.filter(df.Resolution=='NONE').count()/df.count()"
   ]
  },
  {
   "cell_type": "code",
   "execution_count": 65,
   "metadata": {},
   "outputs": [
    {
     "data": {
      "text/plain": [
       "6"
      ]
     },
     "execution_count": 65,
     "metadata": {},
     "output_type": "execute_result"
    }
   ],
   "source": [
    "df.groupBy(\"PdDistrict\").agg(mean(when(col(\"Resolution\")==\"NONE\",1).\\\n",
    "         otherwise(0)).alias(\"c\")).sort(\"c\",ascending=False).filter(col(\"c\")>=avg_rate).count()"
   ]
  },
  {
   "cell_type": "markdown",
   "metadata": {},
   "source": [
    "### Q8.3, Based on last question, what are those districts?  (4 pts)"
   ]
  },
  {
   "cell_type": "code",
   "execution_count": 67,
   "metadata": {
    "scrolled": true
   },
   "outputs": [
    {
     "name": "stdout",
     "output_type": "stream",
     "text": [
      "+----------+\n",
      "|PdDistrict|\n",
      "+----------+\n",
      "|  RICHMOND|\n",
      "|   CENTRAL|\n",
      "|   TARAVAL|\n",
      "|  NORTHERN|\n",
      "| INGLESIDE|\n",
      "|      PARK|\n",
      "+----------+\n",
      "\n"
     ]
    }
   ],
   "source": [
    "df.groupBy(\"PdDistrict\").agg(mean(when(col(\"Resolution\")==\"NONE\",1).\\\n",
    "         otherwise(0)).alias(\"c\")).sort(\"c\",ascending=False).filter(col(\"c\")>=avg_rate).select(\"PdDistrict\").show()"
   ]
  },
  {
   "cell_type": "markdown",
   "metadata": {},
   "source": [
    "## Q9"
   ]
  },
  {
   "cell_type": "markdown",
   "metadata": {},
   "source": [
    "### Q9.1, How many crime instances are related to GUN ?  (5 pts)\n",
    "(hint: looks into Description)"
   ]
  },
  {
   "cell_type": "code",
   "execution_count": 68,
   "metadata": {},
   "outputs": [
    {
     "data": {
      "text/plain": [
       "7727"
      ]
     },
     "execution_count": 68,
     "metadata": {},
     "output_type": "execute_result"
    }
   ],
   "source": [
    "df.filter(instr(upper(col(\"Descript\")),\"GUN\")>=1).count()"
   ]
  },
  {
   "cell_type": "markdown",
   "metadata": {},
   "source": [
    "### Q9.2, Based on last question, list the top 2 categories and their number of instances. (5 pts)"
   ]
  },
  {
   "cell_type": "code",
   "execution_count": 69,
   "metadata": {
    "scrolled": true
   },
   "outputs": [
    {
     "name": "stdout",
     "output_type": "stream",
     "text": [
      "+--------+-----+\n",
      "|Category|count|\n",
      "+--------+-----+\n",
      "| ROBBERY| 4906|\n",
      "| ASSAULT| 1618|\n",
      "+--------+-----+\n",
      "only showing top 2 rows\n",
      "\n"
     ]
    }
   ],
   "source": [
    "df.filter(instr(upper(col(\"Descript\")),\"GUN\")>=1).groupBy(\"Category\").count().orderBy(desc(\"count\")).show(2)"
   ]
  },
  {
   "cell_type": "markdown",
   "metadata": {},
   "source": [
    "## Q10"
   ]
  },
  {
   "cell_type": "markdown",
   "metadata": {},
   "source": [
    "### Q10.1, Let's look into SUICIDE cases. What's the day of week suicide most frequently happen? (3 pts)"
   ]
  },
  {
   "cell_type": "code",
   "execution_count": 70,
   "metadata": {},
   "outputs": [
    {
     "data": {
      "text/plain": [
       "Row(DayOfWeek='Thursday', count=89)"
      ]
     },
     "execution_count": 70,
     "metadata": {},
     "output_type": "execute_result"
    }
   ],
   "source": [
    "df.filter(col(\"Category\")==\"SUICIDE\").groupBy(\"DayOfWeek\").count().orderBy(desc(\"count\")).first()"
   ]
  },
  {
   "cell_type": "markdown",
   "metadata": {},
   "source": [
    "### Q10.2, Based on last question(consider only that day of week), what' the district happen the most ? (3 pts)"
   ]
  },
  {
   "cell_type": "code",
   "execution_count": 72,
   "metadata": {},
   "outputs": [
    {
     "data": {
      "text/plain": [
       "Row(PdDistrict='MISSION', count=14)"
      ]
     },
     "execution_count": 72,
     "metadata": {},
     "output_type": "execute_result"
    }
   ],
   "source": [
    "df.filter(col(\"DayOfWeek\")==\"Thursday\").filter(col(\"Category\")==\"SUICIDE\").\\\n",
    "groupBy(\"PdDistrict\").count().orderBy(desc(\"count\")).first()"
   ]
  },
  {
   "cell_type": "markdown",
   "metadata": {},
   "source": [
    "### Q10.3, Base on last 2 questions, what' the porpotion by JUMPING ? (4 pts)"
   ]
  },
  {
   "cell_type": "code",
   "execution_count": 78,
   "metadata": {},
   "outputs": [
    {
     "name": "stdout",
     "output_type": "stream",
     "text": [
      "+-------------------+\n",
      "|                  c|\n",
      "+-------------------+\n",
      "|0.14285714285714285|\n",
      "+-------------------+\n",
      "\n"
     ]
    }
   ],
   "source": [
    "df.filter(col(\"DayOfWeek\")==\"Thursday\").filter(col(\"Category\")==\"SUICIDE\").filter(col(\"PdDistrict\")==\"MISSION\").\\\n",
    "agg(mean(when(instr(lower(df.Descript),\"jumping\")>=1,1).\\\n",
    "         otherwise(0)).alias(\"c\")).show()"
   ]
  },
  {
   "cell_type": "markdown",
   "metadata": {},
   "source": [
    "## Q11"
   ]
  },
  {
   "cell_type": "markdown",
   "metadata": {},
   "source": [
    "### Q11.1, Let's investigate the 'TRAFFIC VIOLATION'. What's the total number of violation instance?  (3 pts)"
   ]
  },
  {
   "cell_type": "code",
   "execution_count": 81,
   "metadata": {},
   "outputs": [
    {
     "data": {
      "text/plain": [
       "21522"
      ]
     },
     "execution_count": 81,
     "metadata": {},
     "output_type": "execute_result"
    }
   ],
   "source": [
    "df.filter(instr(upper(col(\"Descript\")),\"TRAFFIC VIOLATION\")>=1).count()"
   ]
  },
  {
   "cell_type": "markdown",
   "metadata": {},
   "source": [
    "### Q11.2,  For all traffic violation instances, find the top address where traffic violation happen the most.  (3 pts)"
   ]
  },
  {
   "cell_type": "code",
   "execution_count": 83,
   "metadata": {},
   "outputs": [
    {
     "data": {
      "text/plain": [
       "Row(Address='800 Block of BRYANT ST', count=372)"
      ]
     },
     "execution_count": 83,
     "metadata": {},
     "output_type": "execute_result"
    }
   ],
   "source": [
    "df.filter(instr(upper(col(\"Descript\")),\"TRAFFIC VIOLATION\")>=1).groupBy(\"Address\").count().orderBy(desc(\"count\")).first()"
   ]
  },
  {
   "cell_type": "markdown",
   "metadata": {},
   "source": [
    "### Q11.3, For all traffice violation instances, how many instances happen on Address with 'GOLDEN GATE AV' as the leading cross street? (4 pts)"
   ]
  },
  {
   "cell_type": "code",
   "execution_count": 84,
   "metadata": {},
   "outputs": [
    {
     "data": {
      "text/plain": [
       "121"
      ]
     },
     "execution_count": 84,
     "metadata": {},
     "output_type": "execute_result"
    }
   ],
   "source": [
    "df.filter(col(\"Address\").startswith(\"GOLDEN GATE AV\")).filter(instr(upper(col(\"Descript\")),\"TRAFFIC VIOLATION\")>=1).count()"
   ]
  },
  {
   "cell_type": "markdown",
   "metadata": {},
   "source": [
    "Note: If the question asks traffic violation address associate with all instnces with 'GOLDEN GATE AV', then should use .apply(lambda y: 'GOLDEN GATE AV' in y)"
   ]
  },
  {
   "cell_type": "markdown",
   "metadata": {},
   "source": [
    "## Q12"
   ]
  },
  {
   "cell_type": "markdown",
   "metadata": {},
   "source": [
    "### Q12.1, For each police district, find the top 1 crime category and the number of instances it happened.  Sort the table based on the number of instances descending. (10 pts)\n",
    "(note: Your output need PdDistrict, Category and the number of counts all 3 listed in one table.)"
   ]
  },
  {
   "cell_type": "markdown",
   "metadata": {},
   "source": [
    "If use only one district, say BAYVIEW, write the code"
   ]
  },
  {
   "cell_type": "code",
   "execution_count": 21,
   "metadata": {},
   "outputs": [],
   "source": [
    "from pyspark.sql.functions import row_number\n",
    "from pyspark.sql import Window\n",
    "import pyspark.sql.functions as f"
   ]
  },
  {
   "cell_type": "code",
   "execution_count": 11,
   "metadata": {},
   "outputs": [],
   "source": [
    "grouped_data=df.groupBy(\"PdDistrict\",\"Category\").count().orderBy(desc(\"count\"))"
   ]
  },
  {
   "cell_type": "code",
   "execution_count": 14,
   "metadata": {},
   "outputs": [
    {
     "name": "stdout",
     "output_type": "stream",
     "text": [
      "+----------+-------------+-----+\n",
      "|PdDistrict|     Category|count|\n",
      "+----------+-------------+-----+\n",
      "|  SOUTHERN|LARCENY/THEFT|41845|\n",
      "|  NORTHERN|LARCENY/THEFT|28630|\n",
      "|   CENTRAL|LARCENY/THEFT|25060|\n",
      "+----------+-------------+-----+\n",
      "only showing top 3 rows\n",
      "\n"
     ]
    }
   ],
   "source": [
    "grouped_data.show(3)"
   ]
  },
  {
   "cell_type": "code",
   "execution_count": 26,
   "metadata": {},
   "outputs": [
    {
     "name": "stdout",
     "output_type": "stream",
     "text": [
      "+----------+--------------+-----+\n",
      "|PdDistrict|      Category|count|\n",
      "+----------+--------------+-----+\n",
      "|  SOUTHERN| LARCENY/THEFT|41845|\n",
      "|  NORTHERN| LARCENY/THEFT|28630|\n",
      "|   CENTRAL| LARCENY/THEFT|25060|\n",
      "|   MISSION|OTHER OFFENSES|19330|\n",
      "|TENDERLOIN| DRUG/NARCOTIC|17696|\n",
      "|   BAYVIEW|OTHER OFFENSES|17053|\n",
      "| INGLESIDE|OTHER OFFENSES|13203|\n",
      "|   TARAVAL| LARCENY/THEFT|11845|\n",
      "|  RICHMOND| LARCENY/THEFT| 9893|\n",
      "|      PARK| LARCENY/THEFT| 9146|\n",
      "+----------+--------------+-----+\n",
      "\n"
     ]
    }
   ],
   "source": [
    "w = Window.partitionBy('PdDistrict')\n",
    "grouped_data.withColumn(\"max_d\",f.max('count').over(w)).where(f.col('count') == f.col('max_d'))\\\n",
    "    .drop('max_d').orderBy(desc(\"count\")).show()"
   ]
  },
  {
   "cell_type": "markdown",
   "metadata": {},
   "source": [
    "## Q13"
   ]
  },
  {
   "cell_type": "markdown",
   "metadata": {},
   "source": [
    "### Q13.1, Now let's define the LARCENY/THEFT, ASSAULT, WARRANTS and ROBBERY all these 4 categories count as 'major crime'. For each police district, find the total major crime count and the  porpotion of these major crime got resolved as  'ARREST, BOOK' and 'ARREST, CITED' from the Resolution. Rename those two columns as 'Major Crime Count' and 'Arrest Rate', then sort the output data frame based on 'Arrest Rate' decending.  (10 pts)"
   ]
  },
  {
   "cell_type": "markdown",
   "metadata": {},
   "source": [
    "Create new column based on those 4 categories"
   ]
  },
  {
   "cell_type": "code",
   "execution_count": 29,
   "metadata": {},
   "outputs": [],
   "source": [
    "df=df.withColumn(\"major crime\", when((col(\"Category\")=='LARCENY/THEFT') | \\\n",
    "                                     (col(\"Category\")=='ASSAULT') | \\\n",
    "                                     (col(\"Category\")=='WARRANTS') |\\\n",
    "                                     (col(\"Category\")=='ROBBERY')\\\n",
    "                                     , 1.0).otherwise(0.0))"
   ]
  },
  {
   "cell_type": "code",
   "execution_count": 38,
   "metadata": {},
   "outputs": [],
   "source": [
    "df=df.withColumn(\"Arrest Rate\",when((col(\"Resolution\")==\"ARREST, BOOKED\") | (col(\"Resolution\")==\"ARREST, CITED\"),1).otherwise(0))"
   ]
  },
  {
   "cell_type": "code",
   "execution_count": 39,
   "metadata": {},
   "outputs": [
    {
     "name": "stdout",
     "output_type": "stream",
     "text": [
      "root\n",
      " |-- Dates: timestamp (nullable = true)\n",
      " |-- Category: string (nullable = true)\n",
      " |-- Descript: string (nullable = true)\n",
      " |-- DayOfWeek: string (nullable = true)\n",
      " |-- PdDistrict: string (nullable = true)\n",
      " |-- Resolution: string (nullable = true)\n",
      " |-- Address: string (nullable = true)\n",
      " |-- major crime: double (nullable = false)\n",
      " |-- Arrest Rate: integer (nullable = false)\n",
      "\n"
     ]
    }
   ],
   "source": [
    "df.printSchema()"
   ]
  },
  {
   "cell_type": "code",
   "execution_count": 46,
   "metadata": {},
   "outputs": [
    {
     "name": "stdout",
     "output_type": "stream",
     "text": [
      "+----------+-----------------+-----------+\n",
      "|PdDistrict|Major Crime Count|Arrest Rate|\n",
      "+----------+-----------------+-----------+\n",
      "|TENDERLOIN|          27110.0|      0.501|\n",
      "|   MISSION|          39616.0|      0.323|\n",
      "|   BAYVIEW|          27013.0|      0.294|\n",
      "|  SOUTHERN|          67008.0|      0.266|\n",
      "| INGLESIDE|          24085.0|      0.258|\n",
      "|      PARK|          15936.0|      0.254|\n",
      "|   TARAVAL|          20330.0|      0.237|\n",
      "|  NORTHERN|          44187.0|      0.196|\n",
      "|   CENTRAL|          36813.0|      0.188|\n",
      "|  RICHMOND|          14892.0|      0.168|\n",
      "+----------+-----------------+-----------+\n",
      "\n"
     ]
    }
   ],
   "source": [
    "df.filter(col(\"major crime\")==1).groupBy(\"PdDistrict\").agg(sum(\"major crime\").alias(\"Major Crime Count\"),\\\n",
    "                             round(mean(\"Arrest Rate\"),3).alias(\"Arrest Rate\")).orderBy(desc(\"Arrest Rate\")).show()"
   ]
  }
 ],
 "metadata": {
  "kernelspec": {
   "display_name": "Python 3",
   "language": "python",
   "name": "python3"
  },
  "language_info": {
   "codemirror_mode": {
    "name": "ipython",
    "version": 3
   },
   "file_extension": ".py",
   "mimetype": "text/x-python",
   "name": "python",
   "nbconvert_exporter": "python",
   "pygments_lexer": "ipython3",
   "version": "3.7.3"
  }
 },
 "nbformat": 4,
 "nbformat_minor": 2
}
