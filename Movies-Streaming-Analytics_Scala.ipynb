{
 "cells": [
  {
   "cell_type": "markdown",
   "metadata": {},
   "source": [
    "**Lazy Evaluation**\n",
    "\n",
    "Lazy evaulation means that Spark will wait until the very last moment to execute the graph of computation instructions. In Spark, instead of modifying the data immediately when you express some operation, you build up a plan of transformations that you would like to apply to your source data. By waiting until the last minute to execute the code, Spark compiles this plan from your raw DataFrame transformations to a streamlined physical plan that will run as efficiently as possible across the cluster. This provides immense benefits because Spark can optimize the entire data flow from end to end. An example of this is something called predicate pushdown on DataFrames. If we build a large Spark job but specify a filter at the end that only requires us to fetch one row from our source data, the most efficient way to execute this is to access the single record that we need. Spark will actually optimize this for us by pushing the filter down automatically."
   ]
  },
  {
   "cell_type": "markdown",
   "metadata": {},
   "source": [
    "You can monitor the progress of a job through the Spark web UI. The Spark UI is available on port 4040 of the driver node. If you are running in local mode, this will be http://localhost:4040"
   ]
  },
  {
   "cell_type": "code",
   "execution_count": 1,
   "metadata": {},
   "outputs": [
    {
     "data": {
      "text/plain": [
       "Intitializing Scala interpreter ..."
      ]
     },
     "metadata": {},
     "output_type": "display_data"
    },
    {
     "data": {
      "text/plain": [
       "Spark Web UI available at http://Ramya:4040\n",
       "SparkContext available as 'sc' (version = 3.0.1, master = local[*], app id = local-1607478600669)\n",
       "SparkSession available as 'spark'\n"
      ]
     },
     "metadata": {},
     "output_type": "display_data"
    },
    {
     "data": {
      "text/plain": [
       "import org.apache.spark.sql.functions.expr\r\n",
       "import org.apache.spark.sql.expressions.Window\r\n",
       "import org.apache.spark.sql.functions._\r\n"
      ]
     },
     "execution_count": 1,
     "metadata": {},
     "output_type": "execute_result"
    }
   ],
   "source": [
    "import org.apache.spark.sql.functions.expr\n",
    "import org.apache.spark.sql.expressions.Window\n",
    "import org.apache.spark.sql.functions._"
   ]
  },
  {
   "cell_type": "code",
   "execution_count": 2,
   "metadata": {},
   "outputs": [
    {
     "data": {
      "text/plain": [
       "movie_data: org.apache.spark.sql.DataFrame = [ID: int, Title: string ... 13 more fields]\r\n"
      ]
     },
     "execution_count": 2,
     "metadata": {},
     "output_type": "execute_result"
    }
   ],
   "source": [
    "// in Scala\n",
    "val movie_data = spark.read.option(\"inferSchema\", \"true\").option(\"header\", \"true\").csv(\"C:/Users/ramya/Desktop/Santa_Clara_University/Projects/TODO/Moviesallstreaming/MoviesOnStreamingPlatforms_updated.csv\")"
   ]
  },
  {
   "cell_type": "code",
   "execution_count": 3,
   "metadata": {},
   "outputs": [
    {
     "data": {
      "text/plain": [
       "fillColValues: scala.collection.immutable.Map[String,Any] = Map(IMDb -> 0, Age -> all)\r\n",
       "res0: org.apache.spark.sql.DataFrame = [ID: int, Title: string ... 13 more fields]\r\n"
      ]
     },
     "execution_count": 3,
     "metadata": {},
     "output_type": "execute_result"
    }
   ],
   "source": [
    "val fillColValues = Map(\"IMDb\" -> 0, \"Age\" -> \"all\")\n",
    "movie_data.na.fill(fillColValues)"
   ]
  },
  {
   "cell_type": "code",
   "execution_count": 4,
   "metadata": {},
   "outputs": [
    {
     "data": {
      "text/plain": [
       "res1: Array[org.apache.spark.sql.Row] = Array([1,Inception,2010,13+,8.8,87%,1,0,0,0,Christopher Nolan,Action,Adventure,Sci-Fi,Thriller,United States,United Kingdom,English,Japanese,French,148], [2,The Matrix,1999,18+,8.7,87%,1,0,0,0,Lana Wachowski,Lilly Wachowski,Action,Sci-Fi,United States,English,136], [3,Avengers: Infinity War,2018,13+,8.5,84%,1,0,0,0,Anthony Russo,Joe Russo,Action,Adventure,Sci-Fi,United States,English,149])\r\n"
      ]
     },
     "execution_count": 4,
     "metadata": {},
     "output_type": "execute_result"
    }
   ],
   "source": [
    "movie_data.take(3)"
   ]
  },
  {
   "cell_type": "code",
   "execution_count": 5,
   "metadata": {},
   "outputs": [
    {
     "name": "stdout",
     "output_type": "stream",
     "text": [
      "== Physical Plan ==\n",
      "*(1) Sort [Title#17 ASC NULLS FIRST], true, 0\n",
      "+- Exchange rangepartitioning(Title#17 ASC NULLS FIRST, 200), true, [id=#32]\n",
      "   +- FileScan csv [ID#16,Title#17,Year#18,Age#19,IMDb#20,Rotten Tomatoes#21,Netflix#22,Hulu#23,Prime Video#24,Disney+#25,Directors#26,Genres#27,Country#28,Language#29,Runtime#30] Batched: false, DataFilters: [], Format: CSV, Location: InMemoryFileIndex[file:/C:/Users/ramya/Desktop/Santa_Clara_University/Projects/TODO/Moviesallstre..., PartitionFilters: [], PushedFilters: [], ReadSchema: struct<ID:int,Title:string,Year:string,Age:string,IMDb:double,Rotten Tomatoes:string,Netflix:int,...\n",
      "\n",
      "\n"
     ]
    }
   ],
   "source": [
    "movie_data.sort(\"Title\").explain()"
   ]
  },
  {
   "cell_type": "markdown",
   "metadata": {},
   "source": [
    "**SCHEMA**"
   ]
  },
  {
   "cell_type": "markdown",
   "metadata": {},
   "source": [
    "A schema is a StructType made up of a number of fields, StructFields, that have a name, type, a Boolean flag which specifies whether that column can contain missing or null values, and, finally, users can optionally specify associated metadata with that column. The metadata is a way of storing information about this column (Spark uses this in its machine learning library)."
   ]
  },
  {
   "cell_type": "code",
   "execution_count": 6,
   "metadata": {},
   "outputs": [
    {
     "data": {
      "text/plain": [
       "res3: org.apache.spark.sql.types.StructType = StructType(StructField(ID,IntegerType,true), StructField(Title,StringType,true), StructField(Year,StringType,true), StructField(Age,StringType,true), StructField(IMDb,DoubleType,true), StructField(Rotten Tomatoes,StringType,true), StructField(Netflix,IntegerType,true), StructField(Hulu,IntegerType,true), StructField(Prime Video,IntegerType,true), StructField(Disney+,IntegerType,true), StructField(Directors,StringType,true), StructField(Genres,StringType,true), StructField(Country,StringType,true), StructField(Language,StringType,true), StructField(Runtime,IntegerType,true))\r\n"
      ]
     },
     "execution_count": 6,
     "metadata": {},
     "output_type": "execute_result"
    }
   ],
   "source": [
    "movie_data.schema"
   ]
  },
  {
   "cell_type": "code",
   "execution_count": 7,
   "metadata": {},
   "outputs": [],
   "source": [
    "spark.conf.set(\"spark.sql.shuffle.partitions\", \"5\")"
   ]
  },
  {
   "cell_type": "markdown",
   "metadata": {},
   "source": [
    "**MAX RUN TIME**"
   ]
  },
  {
   "cell_type": "code",
   "execution_count": 8,
   "metadata": {},
   "outputs": [
    {
     "data": {
      "text/plain": [
       "res5: Array[org.apache.spark.sql.Row] = Array([1256])\r\n"
      ]
     },
     "execution_count": 8,
     "metadata": {},
     "output_type": "execute_result"
    }
   ],
   "source": [
    "movie_data.select(max(\"Runtime\")).take(1)"
   ]
  },
  {
   "cell_type": "markdown",
   "metadata": {},
   "source": [
    "**TOP MOST MOVIES PRODUCING YEARS OVERALL**"
   ]
  },
  {
   "cell_type": "code",
   "execution_count": 9,
   "metadata": {},
   "outputs": [
    {
     "name": "stdout",
     "output_type": "stream",
     "text": [
      "+----+------------+\n",
      "|Year|Count_movies|\n",
      "+----+------------+\n",
      "|2017|        1401|\n",
      "|2018|        1284|\n",
      "|2016|        1206|\n",
      "|2015|        1065|\n",
      "|2014|         986|\n",
      "+----+------------+\n",
      "only showing top 5 rows\n",
      "\n"
     ]
    }
   ],
   "source": [
    "movie_data.groupBy(\"Year\").count().withColumnRenamed(\"count\", \"Count_movies\").sort(desc(\"Count_movies\")).show(5)"
   ]
  },
  {
   "cell_type": "markdown",
   "metadata": {},
   "source": [
    "**TOP MOST MOVIES PRODUCING YEARS FOR EACH PLATFORM**"
   ]
  },
  {
   "cell_type": "code",
   "execution_count": 10,
   "metadata": {},
   "outputs": [
    {
     "name": "stdout",
     "output_type": "stream",
     "text": [
      "+----+--------------+---------+----------------+------------+\n",
      "|Year|Movies_Netflix|sum(Hulu)|sum(Prime Video)|sum(Disney+)|\n",
      "+----+--------------+---------+----------------+------------+\n",
      "|2020|           104|        6|              31|           9|\n",
      "|2019|           428|      104|             172|          23|\n",
      "|2018|           560|      158|             624|          16|\n",
      "|2017|           569|      124|             763|          22|\n",
      "|2016|           444|       62|             730|          17|\n",
      "|2015|           272|       61|             765|          10|\n",
      "|2014|           174|       46|             783|          12|\n",
      "|2013|           133|       45|             811|          12|\n",
      "+----+--------------+---------+----------------+------------+\n",
      "only showing top 8 rows\n",
      "\n"
     ]
    }
   ],
   "source": [
    "movie_data.groupBy(\"Year\").agg(sum(\"Netflix\"),sum(\"Hulu\"),sum(\"Prime Video\"),sum(\"Disney+\")).sort(desc(\"Year\")).\n",
    "withColumnRenamed(\"sum(Netflix)\",\"Movies_Netflix\").show(8)"
   ]
  },
  {
   "cell_type": "markdown",
   "metadata": {},
   "source": [
    "**AGE WISE AVERAGE RATING ON EACH PLATFORM**"
   ]
  },
  {
   "cell_type": "markdown",
   "metadata": {},
   "source": [
    "The $ allows us to designate a string as a special string that should refer to an expression. "
   ]
  },
  {
   "cell_type": "code",
   "execution_count": 11,
   "metadata": {},
   "outputs": [
    {
     "name": "stdout",
     "output_type": "stream",
     "text": [
      "+---+----+-----------+\n",
      "|Age|Year|Mean_rating|\n",
      "+---+----+-----------+\n",
      "|18+|1966|        8.8|\n",
      "|18+|1989|        8.5|\n",
      "|13+|1968|        8.5|\n",
      "| 7+|1985|        8.5|\n",
      "| 7+|1981|        8.4|\n",
      "+---+----+-----------+\n",
      "only showing top 5 rows\n",
      "\n"
     ]
    }
   ],
   "source": [
    "movie_data.filter($\"Netflix\"=== 1).groupBy($\"Age\",$\"Year\").agg(round(mean(\"IMDb\"),2)).withColumnRenamed(\"round(avg(IMDb), 2)\",\"Mean_rating\").sort(desc(\"Mean_rating\")).show(5)"
   ]
  },
  {
   "cell_type": "markdown",
   "metadata": {},
   "source": [
    "**WHICH MOVIE IS PRESENT IN ALL PLATFORMS**"
   ]
  },
  {
   "cell_type": "code",
   "execution_count": 12,
   "metadata": {},
   "outputs": [
    {
     "data": {
      "text/plain": [
       "movie_data_1: org.apache.spark.sql.DataFrame = [ID: int, Title: string ... 14 more fields]\r\n"
      ]
     },
     "execution_count": 12,
     "metadata": {},
     "output_type": "execute_result"
    }
   ],
   "source": [
    "val movie_data_1=movie_data.withColumn(\"No_of_platforms\",col(\"Netflix\")+col(\"Hulu\")+col(\"Prime Video\")+ col(\"Disney+\"))"
   ]
  },
  {
   "cell_type": "markdown",
   "metadata": {},
   "source": [
    "NO movie is present in all 4 platforms but the below are present in 3 of them\\\n",
    "select and selectExpr allow you to do the DataFrame equivalent of SQL queries on a table of data"
   ]
  },
  {
   "cell_type": "code",
   "execution_count": 13,
   "metadata": {},
   "outputs": [
    {
     "name": "stdout",
     "output_type": "stream",
     "text": [
      "+--------------------+----+---------------+\n",
      "|               Title|IMDb|Rotten Tomatoes|\n",
      "+--------------------+----+---------------+\n",
      "|                 Amy| 7.8|            95%|\n",
      "|          The Square| 8.1|           100%|\n",
      "|       The Interview| 6.5|            52%|\n",
      "|              Blame!| 6.7|            82%|\n",
      "|           Evolution| 6.1|            43%|\n",
      "|No Game No Life: ...| 7.5|           null|\n",
      "|              Zapped| 5.1|           null|\n",
      "|              Mother| 5.6|           null|\n",
      "|             The Kid| 5.9|            45%|\n",
      "|          Inside Out| 4.5|            25%|\n",
      "+--------------------+----+---------------+\n",
      "\n"
     ]
    }
   ],
   "source": [
    "movie_data_1.filter(col(\"No_of_platforms\")===3).select(\"Title\",\"IMDb\",\"Rotten Tomatoes\").show()"
   ]
  },
  {
   "cell_type": "markdown",
   "metadata": {},
   "source": [
    "**EACH YEAR IMDB TOP MOST RATED MOVIES**"
   ]
  },
  {
   "cell_type": "code",
   "execution_count": 14,
   "metadata": {},
   "outputs": [
    {
     "data": {
      "text/plain": [
       "w: org.apache.spark.sql.expressions.WindowSpec = org.apache.spark.sql.expressions.WindowSpec@2712c334\r\n"
      ]
     },
     "execution_count": 14,
     "metadata": {},
     "output_type": "execute_result"
    }
   ],
   "source": [
    "val w = Window.partitionBy(\"Year\")"
   ]
  },
  {
   "cell_type": "code",
   "execution_count": 15,
   "metadata": {},
   "outputs": [
    {
     "name": "stdout",
     "output_type": "stream",
     "text": [
      "+----+-------------------------------------------------------------------------------------------+----+---------------+\n",
      "|Year|Title                                                                                      |IMDb|Rotten Tomatoes|\n",
      "+----+-------------------------------------------------------------------------------------------+----+---------------+\n",
      "|2020|Sufna                                                                                      |8.2 |null           |\n",
      "|2019|My Next Guest with David Letterman and Shah Rukh Khan                                      |9.3 |null           |\n",
      "|2019|Square One                                                                                 |9.3 |null           |\n",
      "|2018|Operation Toussaint: Operation Underground Railroad and the Fight to End Modern Day Slavery|8.8 |null           |\n",
      "|2017|Where's Daddy?                                                                             |9.1 |null           |\n",
      "|2016|Natsamrat                                                                                  |9.1 |null           |\n",
      "|2015|Down, But Not Out!                                                                         |9.3 |null           |\n",
      "|2014|Weaving the Past: Journey of Discovery                                                     |8.8 |null           |\n",
      "|2014|Machine Gun Preacher Documentary                                                           |8.8 |null           |\n",
      "|2013|Finding Family                                                                             |9.1 |null           |\n",
      "|2012|The Creators                                                                               |8.9 |null           |\n",
      "|2011|Love on a Leash                                                                            |9.3 |null           |\n",
      "|2011|Bounty                                                                                     |9.3 |null           |\n",
      "|2010|Inception                                                                                  |8.8 |87%            |\n",
      "|2010|Ruby's Studio: the Feelings Show                                                           |8.8 |null           |\n",
      "|2009|First Flight: A Mother Hummingbird's Story                                                 |8.8 |null           |\n",
      "|2009|C. H. Spurgeon: The People's Preacher                                                      |8.8 |null           |\n",
      "|2008|The Dark Knight                                                                            |9.0 |94%            |\n",
      "|2007|Going on 13                                                                                |8.8 |null           |\n",
      "|2006|Into The Fire                                                                              |8.8 |null           |\n",
      "+----+-------------------------------------------------------------------------------------------+----+---------------+\n",
      "only showing top 20 rows\n",
      "\n"
     ]
    }
   ],
   "source": [
    "movie_data_1.withColumn(\"max_R\", max(\"IMDb\").over(w)).filter($\"IMDb\" === $\"max_R\").select(\"Year\",\"Title\",\"IMDb\",\"Rotten Tomatoes\").sort(desc(\"Year\")).show(false)"
   ]
  },
  {
   "cell_type": "markdown",
   "metadata": {},
   "source": [
    "**EACH YEAR IMDB TOP MOST RATED MOVIES IN NETFLIX**"
   ]
  },
  {
   "cell_type": "code",
   "execution_count": 16,
   "metadata": {},
   "outputs": [
    {
     "name": "stdout",
     "output_type": "stream",
     "text": [
      "+----+---------------------------------------------------------------------+----+---------------+\n",
      "|Year|Title                                                                |IMDb|Rotten Tomatoes|\n",
      "+----+---------------------------------------------------------------------+----+---------------+\n",
      "|2020|A Secret Love                                                        |8.1 |null           |\n",
      "|2019|My Next Guest with David Letterman and Shah Rukh Khan                |9.3 |null           |\n",
      "|2018|Untamed Romania                                                      |8.7 |null           |\n",
      "|2017|One Heart: The A.R. Rahman Concert Film                              |8.7 |null           |\n",
      "|2016|Natsamrat                                                            |9.1 |null           |\n",
      "|2015|Eh Janam Tumhare Lekhe                                               |8.7 |null           |\n",
      "|2014|Punjab 1984                                                          |8.5 |null           |\n",
      "|2013|Bo Burnham: What.                                                    |8.5 |null           |\n",
      "|2012|Django Unchained                                                     |8.4 |87%            |\n",
      "|2011|Tim Minchin and the Heritage Orchestra: Live at the Royal Albert Hall|8.5 |null           |\n",
      "|2010|Inception                                                            |8.8 |87%            |\n",
      "|2009|3 Idiots                                                             |8.4 |100%           |\n",
      "|2009|Harishchandrachi Factory                                             |8.4 |null           |\n",
      "|2008|A Wednesday!                                                         |8.1 |null           |\n",
      "|2008|Tim Minchin: So F**king Rock Live                                    |8.1 |null           |\n",
      "|2007|Like Stars on Earth                                                  |8.4 |91%            |\n",
      "|2006|Khosla Ka Ghosla!                                                    |8.3 |null           |\n",
      "|2005|Sin City                                                             |8.0 |77%            |\n",
      "|2004|Swades                                                               |8.2 |83%            |\n",
      "|2003|Kal Ho Naa Ho                                                        |8.0 |70%            |\n",
      "+----+---------------------------------------------------------------------+----+---------------+\n",
      "only showing top 20 rows\n",
      "\n"
     ]
    }
   ],
   "source": [
    "movie_data_1.filter($\"Netflix\"=== 1).withColumn(\"max_R\", max(\"IMDb\").over(w)).filter($\"IMDb\" === $\"max_R\").select(\"Year\",\"Title\",\"IMDb\",\"Rotten Tomatoes\").sort(desc(\"Year\")).show(false)"
   ]
  },
  {
   "cell_type": "markdown",
   "metadata": {},
   "source": [
    "**COUNT OF MOVIES IN EACH PLATFORM YEAR WISE AFTER 2000 having rating above 5**"
   ]
  },
  {
   "cell_type": "code",
   "execution_count": 17,
   "metadata": {},
   "outputs": [
    {
     "name": "stdout",
     "output_type": "stream",
     "text": [
      "+----+------------+---------+\n",
      "|Year|sum(Netflix)|sum(Hulu)|\n",
      "+----+------------+---------+\n",
      "|2020|          82|        4|\n",
      "|2019|         337|       90|\n",
      "|2018|         468|      132|\n",
      "|2017|         481|      104|\n",
      "|2016|         370|       51|\n",
      "|2015|         235|       50|\n",
      "|2014|         147|       32|\n",
      "|2013|         118|       36|\n",
      "|2012|          92|       29|\n",
      "|2011|          69|       27|\n",
      "|2010|          74|       22|\n",
      "|2009|          57|       26|\n",
      "|2008|          56|       23|\n",
      "|2007|          30|        5|\n",
      "|2006|          40|       10|\n",
      "|2005|          31|       12|\n",
      "|2004|          23|        5|\n",
      "|2003|          28|        5|\n",
      "|2002|          21|        9|\n",
      "|2001|          22|        4|\n",
      "+----+------------+---------+\n",
      "\n"
     ]
    }
   ],
   "source": [
    "movie_data_1.where(col(\"Year\") > 2000).where(col(\"IMDb\") >= 5).groupBy($\"Year\").agg(sum($\"Netflix\"),sum($\"Hulu\")).sort(desc(\"Year\")).show()"
   ]
  },
  {
   "cell_type": "markdown",
   "metadata": {},
   "source": [
    "**COUNT OF DISTINCT DIRECTORS IN EACH PLATFORM YEAR WISE AFTER 2000**"
   ]
  },
  {
   "cell_type": "code",
   "execution_count": 18,
   "metadata": {},
   "outputs": [
    {
     "data": {
      "text/plain": [
       "res13: Long = 9213\r\n"
      ]
     },
     "execution_count": 18,
     "metadata": {},
     "output_type": "execute_result"
    }
   ],
   "source": [
    "movie_data_1.where(col(\"Year\") > 2000).select(\"Directors\").distinct().count()"
   ]
  },
  {
   "cell_type": "markdown",
   "metadata": {},
   "source": [
    "**WHICH YEAR WERE HIGHEST MOVIES PRESENT IN ALL THE PLATFORMS TOGETHER**"
   ]
  },
  {
   "cell_type": "code",
   "execution_count": 19,
   "metadata": {},
   "outputs": [
    {
     "name": "stdout",
     "output_type": "stream",
     "text": [
      "+----+------------+\n",
      "|Year|Count_of_all|\n",
      "+----+------------+\n",
      "|2017|        1478|\n",
      "|2018|        1358|\n",
      "+----+------------+\n",
      "only showing top 2 rows\n",
      "\n"
     ]
    }
   ],
   "source": [
    "movie_data_1.where(col(\"Year\") > 2000).groupBy($\"Year\").\n",
    "agg(sum($\"Netflix\"),sum($\"Hulu\"),sum(\"Prime Video\"),sum(\"Disney+\")).\n",
    "withColumn(\"Count_of_all\", col(\"sum(Netflix)\")+col(\"sum(Hulu)\")+col(\"sum(Prime Video)\")+col(\"sum(Disney+)\")).\n",
    "sort(desc(\"Count_of_all\")).select(col(\"Year\"),col(\"Count_of_all\")).show(2)"
   ]
  },
  {
   "cell_type": "markdown",
   "metadata": {},
   "source": [
    "**WHICH YEAR WERE HIGHEST RATED MOVIES PRESENT IN ALL THE PLATFORMS TOGETHER**"
   ]
  },
  {
   "cell_type": "code",
   "execution_count": 20,
   "metadata": {},
   "outputs": [
    {
     "name": "stdout",
     "output_type": "stream",
     "text": [
      "+----+-----------------+\n",
      "|Year|   Average_rating|\n",
      "+----+-----------------+\n",
      "|2020|6.175000000000001|\n",
      "|2002|6.065608465608464|\n",
      "+----+-----------------+\n",
      "only showing top 2 rows\n",
      "\n"
     ]
    }
   ],
   "source": [
    "movie_data.where(col(\"Year\") > 2000).groupBy(\"Year\").\n",
    "agg(mean(\"IMDb\")).\n",
    "withColumnRenamed(\"avg(IMDb)\",\"Average_rating\").\n",
    "sort(desc(\"Average_rating\")).select(col(\"Year\"),col(\"Average_rating\")).show(2)"
   ]
  },
  {
   "cell_type": "markdown",
   "metadata": {},
   "source": [
    "**HOW DID THE DURATION OF MOVIES CHANGED ACROSS YEARS-FINDING DURATION OF TOP RATED MOVIES AND LEAST RATED MOVIES**"
   ]
  },
  {
   "cell_type": "code",
   "execution_count": 21,
   "metadata": {},
   "outputs": [
    {
     "data": {
      "text/plain": [
       "movie_h: org.apache.spark.sql.Dataset[org.apache.spark.sql.Row] = [Year: string, Avg_rating_of_highly_rated_movies: double]\r\n"
      ]
     },
     "execution_count": 21,
     "metadata": {},
     "output_type": "execute_result"
    }
   ],
   "source": [
    "val movie_h=movie_data.withColumn(\"High_or_low\", when(col(\"IMDb\")>=5, \"Highly_rated\").otherwise(\"Low_rated\")).\n",
    "where(col(\"High_or_low\")===\"Highly_rated\").groupBy(\"Year\").agg(round(mean(\"Runtime\"),2)).\n",
    "withColumnRenamed(\"round(avg(Runtime), 2)\",\"Avg_rating_of_highly_rated_movies\").sort(desc((\"Year\")))"
   ]
  },
  {
   "cell_type": "code",
   "execution_count": 22,
   "metadata": {},
   "outputs": [
    {
     "data": {
      "text/plain": [
       "movie_l: org.apache.spark.sql.Dataset[org.apache.spark.sql.Row] = [Year: string, Avg_rating_of_low_rated_movies: double]\r\n"
      ]
     },
     "execution_count": 22,
     "metadata": {},
     "output_type": "execute_result"
    }
   ],
   "source": [
    "val movie_l=movie_data.withColumn(\"High_or_low\", when(col(\"IMDb\")>=5, \"Highly_rated\").otherwise(\"Low_rated\")).\n",
    "where(col(\"High_or_low\")===\"Low_rated\").groupBy(\"Year\").agg(round(mean(\"Runtime\"),2)).\n",
    "withColumnRenamed(\"round(avg(Runtime), 2)\",\"Avg_rating_of_low_rated_movies\").sort(desc((\"Year\")))"
   ]
  },
  {
   "cell_type": "code",
   "execution_count": 23,
   "metadata": {},
   "outputs": [
    {
     "name": "stdout",
     "output_type": "stream",
     "text": [
      "+----+---------------------------------+------------------------------+\n",
      "|Year|Avg_rating_of_highly_rated_movies|Avg_rating_of_low_rated_movies|\n",
      "+----+---------------------------------+------------------------------+\n",
      "|2020|                            93.69|                         95.16|\n",
      "|2019|                            94.54|                         89.04|\n",
      "|2018|                            97.88|                         85.96|\n",
      "|2017|                            96.01|                         89.42|\n",
      "|2016|                            94.74|                         91.97|\n",
      "|2015|                            94.21|                          89.1|\n",
      "|2014|                            94.63|                         88.95|\n",
      "|2013|                            92.36|                         88.97|\n",
      "|2012|                            91.61|                         87.49|\n",
      "|2011|                            94.53|                         86.86|\n",
      "|2010|                            93.12|                         92.29|\n",
      "|2009|                            97.12|                         90.01|\n",
      "|2008|                            95.16|                         92.65|\n",
      "|2007|                            99.42|                         88.33|\n",
      "|2006|                            97.48|                         92.19|\n",
      "|2005|                            99.27|                         93.26|\n",
      "|2004|                            97.91|                         99.63|\n",
      "|2003|                            99.03|                         97.24|\n",
      "|2002|                            99.54|                         98.75|\n",
      "|2001|                           100.03|                         91.76|\n",
      "+----+---------------------------------+------------------------------+\n",
      "only showing top 20 rows\n",
      "\n"
     ]
    }
   ],
   "source": [
    "movie_h.join(movie_l, \"Year\").sort(desc(\"Year\")).show()"
   ]
  },
  {
   "cell_type": "markdown",
   "metadata": {},
   "source": [
    "**ENGLISH AND NON ENGLISH MOVIES AVERAGE RATING**"
   ]
  },
  {
   "cell_type": "code",
   "execution_count": 24,
   "metadata": {},
   "outputs": [
    {
     "name": "stdout",
     "output_type": "stream",
     "text": [
      "+-----------------+\n",
      "|        avg(IMDb)|\n",
      "+-----------------+\n",
      "|5.822641363881808|\n",
      "+-----------------+\n",
      "\n"
     ]
    },
    {
     "data": {
      "text/plain": [
       "descripFilter: org.apache.spark.sql.Column = contains(lower(Language), english)\r\n"
      ]
     },
     "execution_count": 24,
     "metadata": {},
     "output_type": "execute_result"
    }
   ],
   "source": [
    "val descripFilter = lower(col(\"Language\")).contains(\"english\")\n",
    "movie_data.where(descripFilter).agg(mean(col(\"IMDb\"))).show()"
   ]
  },
  {
   "cell_type": "code",
   "execution_count": 25,
   "metadata": {},
   "outputs": [
    {
     "name": "stdout",
     "output_type": "stream",
     "text": [
      "+-----------------+\n",
      "|        avg(IMDb)|\n",
      "+-----------------+\n",
      "|6.260852713178291|\n",
      "+-----------------+\n",
      "\n"
     ]
    }
   ],
   "source": [
    "movie_data.where(!descripFilter).agg(mean(col(\"IMDb\"))).show()"
   ]
  },
  {
   "cell_type": "markdown",
   "metadata": {},
   "source": [
    "**NUMBER OF MOVIES WHICH FOLLOW A CRITERIA**"
   ]
  },
  {
   "cell_type": "code",
   "execution_count": 26,
   "metadata": {},
   "outputs": [
    {
     "data": {
      "text/plain": [
       "descripFilter: org.apache.spark.sql.Column = contains(lower(Language), english)\r\n",
       "countfilter: org.apache.spark.sql.Column = contains(lower(Country), united states)\r\n",
       "genrefilter: org.apache.spark.sql.Column = contains(upper(Genres), ACTION)\r\n"
      ]
     },
     "execution_count": 26,
     "metadata": {},
     "output_type": "execute_result"
    }
   ],
   "source": [
    "val descripFilter = lower(col(\"Language\")).contains(\"english\")\n",
    "val countfilter= lower(col(\"Country\")).contains(\"united states\")\n",
    "val genrefilter= upper(col(\"Genres\")).contains(\"ACTION\")"
   ]
  },
  {
   "cell_type": "code",
   "execution_count": 27,
   "metadata": {},
   "outputs": [
    {
     "data": {
      "text/plain": [
       "res19: Long = 10303\r\n"
      ]
     },
     "execution_count": 27,
     "metadata": {},
     "output_type": "execute_result"
    }
   ],
   "source": [
    "movie_data_1.withColumn(\"Criteria\", countfilter.and((descripFilter.or(genrefilter))))\n",
    "  .where(\"Criteria\")\n",
    "  .count()"
   ]
  },
  {
   "cell_type": "markdown",
   "metadata": {},
   "source": [
    "**CORRELATION DURATION AND RATING**"
   ]
  },
  {
   "cell_type": "code",
   "execution_count": 28,
   "metadata": {
    "scrolled": true
   },
   "outputs": [
    {
     "data": {
      "text/plain": [
       "import org.apache.spark.sql.functions.corr\r\n",
       "res20: Double = 0.22394511701216854\r\n"
      ]
     },
     "execution_count": 28,
     "metadata": {},
     "output_type": "execute_result"
    }
   ],
   "source": [
    "import org.apache.spark.sql.functions.{corr}\n",
    "movie_data.stat.corr(\"Runtime\", \"IMDb\")"
   ]
  },
  {
   "cell_type": "markdown",
   "metadata": {},
   "source": [
    "**HOW MANY UNIQUE GENRES**"
   ]
  },
  {
   "cell_type": "code",
   "execution_count": 29,
   "metadata": {},
   "outputs": [
    {
     "data": {
      "text/plain": [
       "movie_data_2: org.apache.spark.sql.DataFrame = [ID: int, Title: string ... 13 more fields]\r\n"
      ]
     },
     "execution_count": 29,
     "metadata": {},
     "output_type": "execute_result"
    }
   ],
   "source": [
    "val movie_data_2=movie_data.withColumn(\"Genres_all\",split(($\"Genres\"),\",\")).drop(\"Genres\")"
   ]
  },
  {
   "cell_type": "code",
   "execution_count": 30,
   "metadata": {},
   "outputs": [
    {
     "data": {
      "text/plain": [
       "res21: Long = 27\r\n"
      ]
     },
     "execution_count": 30,
     "metadata": {},
     "output_type": "execute_result"
    }
   ],
   "source": [
    "movie_data_2.select(explode($\"Genres_all\")).distinct().count()"
   ]
  },
  {
   "cell_type": "markdown",
   "metadata": {},
   "source": [
    "**HOW MANY UNIQUE LANGUAGES**"
   ]
  },
  {
   "cell_type": "code",
   "execution_count": 31,
   "metadata": {},
   "outputs": [
    {
     "data": {
      "text/plain": [
       "res22: Long = 178\r\n"
      ]
     },
     "execution_count": 31,
     "metadata": {},
     "output_type": "execute_result"
    }
   ],
   "source": [
    "movie_data.withColumn(\"Lang_all\",split(($\"Language\"),\",\")).drop(\"Language\").select(explode($\"Lang_all\")).distinct().count()"
   ]
  },
  {
   "cell_type": "markdown",
   "metadata": {},
   "source": [
    "**MOVIES PER LANGUAGE**"
   ]
  },
  {
   "cell_type": "code",
   "execution_count": 32,
   "metadata": {},
   "outputs": [
    {
     "name": "stdout",
     "output_type": "stream",
     "text": [
      "+--------+-----+\n",
      "|Lang_all|count|\n",
      "+--------+-----+\n",
      "| English|13233|\n",
      "| Spanish|  872|\n",
      "|  French|  799|\n",
      "|   Hindi|  731|\n",
      "|  German|  483|\n",
      "+--------+-----+\n",
      "only showing top 5 rows\n",
      "\n"
     ]
    }
   ],
   "source": [
    "movie_data.withColumn(\"Lang_all\",explode(split(($\"Language\"),\",\"))).drop(\"Language\").groupBy(\"Lang_all\").count().sort(desc(\"count\")).show(5)"
   ]
  },
  {
   "cell_type": "markdown",
   "metadata": {},
   "source": [
    "**TOP MOST GENRE BY COUNT PER LANGUAGE**"
   ]
  },
  {
   "cell_type": "code",
   "execution_count": 33,
   "metadata": {},
   "outputs": [
    {
     "data": {
      "text/plain": [
       "gen_lan: org.apache.spark.sql.DataFrame = [Lang_all: string, Genre_all: string ... 1 more field]\r\n"
      ]
     },
     "execution_count": 33,
     "metadata": {},
     "output_type": "execute_result"
    }
   ],
   "source": [
    "val gen_lan=movie_data.withColumn(\"Lang_all\",explode(split(($\"Language\"),\",\"))).withColumn(\"Genre_all\",explode(split(($\"Genres\"),\",\"))).\n",
    "withColumn(\"Number\", lit(1)).select(\"Lang_all\",\"Genre_all\",\"Number\")"
   ]
  },
  {
   "cell_type": "code",
   "execution_count": 34,
   "metadata": {},
   "outputs": [
    {
     "name": "stdout",
     "output_type": "stream",
     "text": [
      "+--------+---------+\n",
      "|Lang_all|Genre_all|\n",
      "+--------+---------+\n",
      "| English|    Drama|\n",
      "|   Hindi|    Drama|\n",
      "|  French|    Drama|\n",
      "| Spanish|    Drama|\n",
      "|  German|    Drama|\n",
      "+--------+---------+\n",
      "only showing top 5 rows\n",
      "\n"
     ]
    },
    {
     "data": {
      "text/plain": [
       "w: org.apache.spark.sql.expressions.WindowSpec = org.apache.spark.sql.expressions.WindowSpec@38021de4\r\n"
      ]
     },
     "execution_count": 34,
     "metadata": {},
     "output_type": "execute_result"
    }
   ],
   "source": [
    "val w = Window.partitionBy(\"Lang_all\")\n",
    "gen_lan.groupBy(\"Lang_all\",\"Genre_all\").count().withColumn(\"Max_count\", max(\"count\").over(w)).\n",
    "where(col(\"count\") === col(\"Max_count\")).sort(desc(\"Max_count\")).select(\"Lang_all\",\"Genre_all\").\n",
    "show(5)"
   ]
  },
  {
   "cell_type": "markdown",
   "metadata": {},
   "source": [
    "**OTHER THAN US,AUSTRALIA AND UK WHICH COUNTRIES HAVE ENGLISH MOVIES**"
   ]
  },
  {
   "cell_type": "code",
   "execution_count": 35,
   "metadata": {},
   "outputs": [
    {
     "data": {
      "text/plain": [
       "filter1: org.apache.spark.sql.Column = (NOT contains(lower(Country), united states))\r\n",
       "filter2: org.apache.spark.sql.Column = (NOT contains(lower(Country), kingdom))\r\n",
       "filter3: org.apache.spark.sql.Column = (NOT contains(lower(Country), australia))\r\n",
       "filter4: org.apache.spark.sql.Column = contains(lower(Language), english)\r\n"
      ]
     },
     "execution_count": 35,
     "metadata": {},
     "output_type": "execute_result"
    }
   ],
   "source": [
    "val filter1 = not(lower(col(\"Country\")).contains(\"united states\"))\n",
    "val filter2 = not(lower(col(\"Country\")).contains(\"kingdom\"))\n",
    "val filter3 = not(lower(col(\"Country\")).contains(\"australia\"))\n",
    "val filter4 = lower(col(\"Language\")).contains(\"english\")"
   ]
  },
  {
   "cell_type": "code",
   "execution_count": 36,
   "metadata": {},
   "outputs": [
    {
     "data": {
      "text/plain": [
       "movies: org.apache.spark.sql.Dataset[org.apache.spark.sql.Row] = [Country_all: string, count: bigint]\r\n"
      ]
     },
     "execution_count": 36,
     "metadata": {},
     "output_type": "execute_result"
    }
   ],
   "source": [
    "val movies= movie_data.withColumn(\"Criteria\", filter4.and(filter1.and(filter2.and(filter3)))).where(\"Criteria\").withColumn(\"Lang_all\",explode(split(($\"Language\"),\",\"))).withColumn(\"Country_all\",explode(split(($\"Country\"),\",\")))\n",
    ".select(\"Lang_all\",\"Country_all\").filter(col(\"Lang_all\")===\"English\").groupBy(\"Country_all\").count().sort(desc(\"count\"))"
   ]
  },
  {
   "cell_type": "code",
   "execution_count": 37,
   "metadata": {},
   "outputs": [
    {
     "name": "stdout",
     "output_type": "stream",
     "text": [
      "+-----------+-----+\n",
      "|Country_all|count|\n",
      "+-----------+-----+\n",
      "|     Canada|  597|\n",
      "|     France|  171|\n",
      "|      India|  150|\n",
      "|    Germany|  136|\n",
      "|      Italy|  107|\n",
      "+-----------+-----+\n",
      "only showing top 5 rows\n",
      "\n"
     ]
    }
   ],
   "source": [
    "movies.show(5)"
   ]
  },
  {
   "cell_type": "markdown",
   "metadata": {},
   "source": [
    "**WHICH MOVIE INTO MANY LANGUAGES**"
   ]
  },
  {
   "cell_type": "code",
   "execution_count": 38,
   "metadata": {},
   "outputs": [
    {
     "data": {
      "text/plain": [
       "movie_data_3: org.apache.spark.sql.DataFrame = [ID: int, Title: string ... 14 more fields]\r\n"
      ]
     },
     "execution_count": 38,
     "metadata": {},
     "output_type": "execute_result"
    }
   ],
   "source": [
    " val movie_data_3=movie_data.withColumn(\"Lang_all\",size(split(($\"Language\"),\",\")))"
   ]
  },
  {
   "cell_type": "code",
   "execution_count": 39,
   "metadata": {},
   "outputs": [
    {
     "data": {
      "text/plain": [
       "max_count: org.apache.spark.sql.DataFrame = [max(Lang_all): int]\r\n"
      ]
     },
     "execution_count": 39,
     "metadata": {},
     "output_type": "execute_result"
    }
   ],
   "source": [
    "val max_count=movie_data_3.agg(max(\"Lang_all\"))"
   ]
  },
  {
   "cell_type": "code",
   "execution_count": 40,
   "metadata": {},
   "outputs": [
    {
     "name": "stdout",
     "output_type": "stream",
     "text": [
      "+-----+\n",
      "|Title|\n",
      "+-----+\n",
      "| 2012|\n",
      "+-----+\n",
      "\n"
     ]
    }
   ],
   "source": [
    "movie_data_3.filter(col(\"Lang_all\") === 10).select(\"Title\").show()"
   ]
  },
  {
   "cell_type": "markdown",
   "metadata": {},
   "source": [
    "**HOW MANY MOVIES HAVE ENGLISH AS THEIR TRANSLATED LANGUAGE(not the first name in list)**"
   ]
  },
  {
   "cell_type": "code",
   "execution_count": 41,
   "metadata": {},
   "outputs": [
    {
     "data": {
      "text/plain": [
       "res27: Long = 705\r\n"
      ]
     },
     "execution_count": 41,
     "metadata": {},
     "output_type": "execute_result"
    }
   ],
   "source": [
    "movie_data.withColumn(\"Lang_all\",size(split(($\"Language\"),\",\"))).filter(col(\"Lang_all\")>1).\n",
    "withColumn(\"xyz\",(split(($\"Language\"),\",\"))).withColumn(\"slice\", slice($\"xyz\", 2, 10)).\n",
    "where(array_contains(col(\"slice\"),\"English\")).count()\n",
    "\n"
   ]
  },
  {
   "cell_type": "markdown",
   "metadata": {},
   "source": [
    "**REGEX REPLACE USAGE**"
   ]
  },
  {
   "cell_type": "code",
   "execution_count": 42,
   "metadata": {},
   "outputs": [
    {
     "data": {
      "text/plain": [
       "import org.apache.spark.sql.functions.regexp_replace\r\n",
       "simpleColors: Seq[String] = List(black, white, red, green, blue)\r\n",
       "regexString: String = BLACK|WHITE|RED|GREEN|BLUE\r\n"
      ]
     },
     "execution_count": 42,
     "metadata": {},
     "output_type": "execute_result"
    }
   ],
   "source": [
    "import org.apache.spark.sql.functions.regexp_replace\n",
    "val simpleColors = Seq(\"black\", \"white\", \"red\", \"green\", \"blue\")\n",
    "val regexString = simpleColors.map(_.toUpperCase).mkString(\"|\")"
   ]
  },
  {
   "cell_type": "code",
   "execution_count": 43,
   "metadata": {},
   "outputs": [
    {
     "name": "stdout",
     "output_type": "stream",
     "text": [
      "+-----------+----------+\n",
      "|color_clean|     Title|\n",
      "+-----------+----------+\n",
      "|  Inception| Inception|\n",
      "| The Matrix|The Matrix|\n",
      "+-----------+----------+\n",
      "only showing top 2 rows\n",
      "\n"
     ]
    }
   ],
   "source": [
    "movie_data.select(regexp_replace(col(\"Title\"), regexString, \"COLOR\").alias(\"color_clean\"),col(\"Title\")).show(2)"
   ]
  },
  {
   "cell_type": "markdown",
   "metadata": {},
   "source": [
    "**WHICH LANGUAGE HAS SO MANY CRIME THRILLERS**"
   ]
  },
  {
   "cell_type": "code",
   "execution_count": 44,
   "metadata": {},
   "outputs": [
    {
     "data": {
      "text/plain": [
       "filter1: org.apache.spark.sql.Column = contains(lower(Genres), crime)\r\n",
       "filter2: org.apache.spark.sql.Column = contains(lower(Genres), thriller)\r\n"
      ]
     },
     "execution_count": 44,
     "metadata": {},
     "output_type": "execute_result"
    }
   ],
   "source": [
    "val filter1 = lower(col(\"Genres\")).contains(\"crime\")\n",
    "val filter2 = lower(col(\"Genres\")).contains(\"thriller\")"
   ]
  },
  {
   "cell_type": "code",
   "execution_count": 45,
   "metadata": {},
   "outputs": [
    {
     "name": "stdout",
     "output_type": "stream",
     "text": [
      "+---------+---------------+\n",
      "| Lang_all|count(Criteria)|\n",
      "+---------+---------------+\n",
      "|  English|           3518|\n",
      "|Afrikaans|              8|\n",
      "|    Xhosa|              2|\n",
      "| Hawaiian|              1|\n",
      "|  Swedish|             26|\n",
      "+---------+---------------+\n",
      "only showing top 5 rows\n",
      "\n"
     ]
    }
   ],
   "source": [
    "movie_data.withColumn(\"Criteria\", filter1.or(filter2)).where(\"Criteria\").\n",
    "withColumn(\"Lang_all\",explode(split(($\"Language\"),\",\"))).select(\"Lang_all\",\"Criteria\").groupBy(\"Lang_all\").agg(count(\"Criteria\")).show(5)"
   ]
  },
  {
   "cell_type": "markdown",
   "metadata": {},
   "source": [
    "**TOP MOST GENRE BY AVERAGE RATING PER LANGUAGE**"
   ]
  },
  {
   "cell_type": "code",
   "execution_count": 47,
   "metadata": {},
   "outputs": [
    {
     "data": {
      "text/plain": [
       "gen_lan: org.apache.spark.sql.DataFrame = [Genre_all: string, Lang_all: string ... 1 more field]\r\n"
      ]
     },
     "execution_count": 47,
     "metadata": {},
     "output_type": "execute_result"
    }
   ],
   "source": [
    "val gen_lan=movie_data.withColumn(\"Lang_all\",explode(split(($\"Language\"),\",\"))).\n",
    "withColumn(\"Genre_all\",explode(split(($\"Genres\"),\",\"))).select(\"Lang_all\",\"Genre_all\",\"IMDb\").\n",
    "groupBy(\"Genre_all\",\"Lang_all\").agg(round(mean(\"IMDb\"),2).alias(\"Rating\"))"
   ]
  },
  {
   "cell_type": "code",
   "execution_count": 51,
   "metadata": {},
   "outputs": [
    {
     "name": "stdout",
     "output_type": "stream",
     "text": [
      "+---------+---------+\n",
      "| Lang_all|Genre_all|\n",
      "+---------+---------+\n",
      "|   Polish|    Sport|\n",
      "|  Bosnian|  History|\n",
      "|  Bosnian|   Family|\n",
      "|    Xhosa|     News|\n",
      "|Afrikaans|    Music|\n",
      "+---------+---------+\n",
      "only showing top 5 rows\n",
      "\n"
     ]
    },
    {
     "data": {
      "text/plain": [
       "w: org.apache.spark.sql.expressions.WindowSpec = org.apache.spark.sql.expressions.WindowSpec@571dd030\r\n"
      ]
     },
     "execution_count": 51,
     "metadata": {},
     "output_type": "execute_result"
    }
   ],
   "source": [
    "val w = Window.partitionBy(\"Lang_all\")\n",
    "\n",
    "gen_lan.withColumn(\"Max_rating\", max(\"Rating\").over(w)).where(col(\"Rating\") ===  col(\"Max_rating\")).sort(desc(\"Max_rating\")).select(\"Lang_all\",\"Genre_all\").show(5)"
   ]
  },
  {
   "cell_type": "markdown",
   "metadata": {},
   "source": [
    "**WHAT ARE THE HIGH RATED KIDS MOVIES EVERY YEAR**"
   ]
  },
  {
   "cell_type": "code",
   "execution_count": 60,
   "metadata": {},
   "outputs": [
    {
     "data": {
      "text/plain": [
       "gen_lan: org.apache.spark.sql.Dataset[org.apache.spark.sql.Row] = [ID: int, Title: string ... 13 more fields]\r\n"
      ]
     },
     "execution_count": 60,
     "metadata": {},
     "output_type": "execute_result"
    }
   ],
   "source": [
    "val gen_lan=movie_data.filter(col(\"Age\")===\"7+\")"
   ]
  },
  {
   "cell_type": "code",
   "execution_count": 63,
   "metadata": {},
   "outputs": [
    {
     "name": "stdout",
     "output_type": "stream",
     "text": [
      "+----------------------------------+----+----+\n",
      "|Title                             |Year|IMDb|\n",
      "+----------------------------------+----+----+\n",
      "|Untamed Romania                   |2018|8.7 |\n",
      "|Star Wars: The Empire Strikes Back|1980|8.7 |\n",
      "|Slednecks 13                      |2010|8.6 |\n",
      "|Star Wars: A New Hope             |1977|8.6 |\n",
      "|Fabulous Frogs                    |2014|8.6 |\n",
      "+----------------------------------+----+----+\n",
      "only showing top 5 rows\n",
      "\n"
     ]
    },
    {
     "data": {
      "text/plain": [
       "w: org.apache.spark.sql.expressions.WindowSpec = org.apache.spark.sql.expressions.WindowSpec@69682265\r\n"
      ]
     },
     "execution_count": 63,
     "metadata": {},
     "output_type": "execute_result"
    }
   ],
   "source": [
    "val w = Window.partitionBy(\"Year\")\n",
    "gen_lan.withColumn(\"Max_rating\",max(\"IMDb\").over(w)).\n",
    "where(col(\"IMDb\") === col(\"Max_rating\")).sort(desc(\"Max_rating\")).select(\"Title\",\"Year\",\"IMDb\").\n",
    "show(5,false)"
   ]
  },
  {
   "cell_type": "code",
   "execution_count": null,
   "metadata": {},
   "outputs": [],
   "source": []
  },
  {
   "cell_type": "code",
   "execution_count": null,
   "metadata": {},
   "outputs": [],
   "source": []
  },
  {
   "cell_type": "code",
   "execution_count": null,
   "metadata": {},
   "outputs": [],
   "source": []
  },
  {
   "cell_type": "code",
   "execution_count": null,
   "metadata": {},
   "outputs": [],
   "source": []
  },
  {
   "cell_type": "code",
   "execution_count": null,
   "metadata": {},
   "outputs": [],
   "source": []
  },
  {
   "cell_type": "code",
   "execution_count": null,
   "metadata": {},
   "outputs": [],
   "source": []
  },
  {
   "cell_type": "code",
   "execution_count": null,
   "metadata": {},
   "outputs": [],
   "source": []
  }
 ],
 "metadata": {
  "kernelspec": {
   "display_name": "spylon-kernel",
   "language": "scala",
   "name": "spylon-kernel"
  },
  "language_info": {
   "codemirror_mode": "text/x-scala",
   "file_extension": ".scala",
   "help_links": [
    {
     "text": "MetaKernel Magics",
     "url": "https://metakernel.readthedocs.io/en/latest/source/README.html"
    }
   ],
   "mimetype": "text/x-scala",
   "name": "scala",
   "pygments_lexer": "scala",
   "version": "0.4.1"
  }
 },
 "nbformat": 4,
 "nbformat_minor": 4
}
