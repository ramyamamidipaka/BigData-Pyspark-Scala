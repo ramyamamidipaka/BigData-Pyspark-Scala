{
 "cells": [
  {
   "cell_type": "code",
   "execution_count": 1,
   "metadata": {},
   "outputs": [],
   "source": [
    "from pyspark.sql import SparkSession\n",
    "from pyspark import SparkContext, SparkConf\n",
    "from pyspark.sql.functions import window,column,desc,col,instr,expr, pow,translate,lit\n",
    "from pyspark.sql import Row\n",
    "from pyspark.sql.functions import *\n",
    "from pyspark.sql.types import *\n",
    "from pyspark.sql.functions import unix_timestamp, from_unixtime\n",
    "import pandas as pd\n",
    "\n",
    "spark = SparkSession \\\n",
    "    .builder \\\n",
    "    .appName(\"Foo\") \\\n",
    "    .config(\"spark.executor.memory\", \"1g\") \\\n",
    "    .config(\"spark.driver.memory\", \"1g\") \\\n",
    "    .getOrCreate()"
   ]
  },
  {
   "cell_type": "markdown",
   "metadata": {},
   "source": [
    "## Creating a dataframe\n"
   ]
  },
  {
   "cell_type": "markdown",
   "metadata": {},
   "source": [
    "### From row object"
   ]
  },
  {
   "cell_type": "code",
   "execution_count": 2,
   "metadata": {},
   "outputs": [
    {
     "name": "stdout",
     "output_type": "stream",
     "text": [
      "+----+---+\n",
      "|Name|Age|\n",
      "+----+---+\n",
      "| sab| 21|\n",
      "| Ran| 34|\n",
      "+----+---+\n",
      "\n"
     ]
    }
   ],
   "source": [
    "user_age=Row(\"Name\",\"Age\")\n",
    "\n",
    "data=[user_age(\"sab\",21),user_age(\"Ran\",34)]\n",
    "user_df = spark.createDataFrame(data)\n",
    "user_df.show()"
   ]
  },
  {
   "cell_type": "markdown",
   "metadata": {},
   "source": [
    "### From list of tuples"
   ]
  },
  {
   "cell_type": "code",
   "execution_count": 3,
   "metadata": {},
   "outputs": [
    {
     "name": "stdout",
     "output_type": "stream",
     "text": [
      "+-----+---+\n",
      "| Name|Age|\n",
      "+-----+---+\n",
      "|Alice|  1|\n",
      "|  Bob|  2|\n",
      "| Mary|  3|\n",
      "|  Dab|  9|\n",
      "+-----+---+\n",
      "\n"
     ]
    }
   ],
   "source": [
    "mylist = [('Alice', 1), ('Bob', 2), ('Mary', 3),(\"Dab\",9)]\n",
    "df2 = spark.createDataFrame(mylist, [\"Name\" ,\"Age\"])\n",
    "df2.show()"
   ]
  },
  {
   "cell_type": "markdown",
   "metadata": {},
   "source": [
    "### From rdd "
   ]
  },
  {
   "cell_type": "code",
   "execution_count": 4,
   "metadata": {},
   "outputs": [
    {
     "name": "stdout",
     "output_type": "stream",
     "text": [
      "+---+---+---+\n",
      "|  a|  b|  c|\n",
      "+---+---+---+\n",
      "|  1|  2|  3|\n",
      "|  4|  5|  6|\n",
      "|  7|  8|  9|\n",
      "+---+---+---+\n",
      "\n"
     ]
    }
   ],
   "source": [
    "rdd = spark.sparkContext.parallelize([(1,2,3),(4,5,6),(7,8,9)])\n",
    "df = rdd.toDF([\"a\",\"b\",\"c\"])\n",
    "df.show()"
   ]
  },
  {
   "cell_type": "markdown",
   "metadata": {},
   "source": [
    "## Working on a dataframe"
   ]
  },
  {
   "cell_type": "code",
   "execution_count": 5,
   "metadata": {},
   "outputs": [
    {
     "data": {
      "text/plain": [
       "Row(InvoiceNo='536365', StockCode='85123A', Description='WHITE HANGING HEART T-LIGHT HOLDER', Quantity=6, InvoiceDate='12/1/2010 8:26', UnitPrice=2.55, CustomerID=17850, Country='United Kingdom')"
      ]
     },
     "execution_count": 5,
     "metadata": {},
     "output_type": "execute_result"
    }
   ],
   "source": [
    "pdf = spark.read.format(\"csv\").option(\"header\", \"true\").option(\"inferSchema\", \"true\").option(\"delimiter\", \",\")\\\n",
    ".option(\"dateFormat\", \"MM/dd/YYYY HH:mm\")\\\n",
    ".load(\"C:/Users/ramya/Desktop/Santa Clara University/Q3/PySpark/retail.csv\")\n",
    "\n",
    "pdf.head()"
   ]
  },
  {
   "cell_type": "code",
   "execution_count": 6,
   "metadata": {
    "scrolled": true
   },
   "outputs": [
    {
     "name": "stdout",
     "output_type": "stream",
     "text": [
      "root\n",
      " |-- InvoiceNo: string (nullable = true)\n",
      " |-- StockCode: string (nullable = true)\n",
      " |-- Description: string (nullable = true)\n",
      " |-- Quantity: integer (nullable = true)\n",
      " |-- InvoiceDate: string (nullable = true)\n",
      " |-- UnitPrice: double (nullable = true)\n",
      " |-- CustomerID: integer (nullable = true)\n",
      " |-- Country: string (nullable = true)\n",
      "\n"
     ]
    }
   ],
   "source": [
    "pdf.printSchema()"
   ]
  },
  {
   "cell_type": "code",
   "execution_count": 4,
   "metadata": {},
   "outputs": [
    {
     "name": "stdout",
     "output_type": "stream",
     "text": [
      "+--------------+-------------------+\n",
      "|   InvoiceDate|               date|\n",
      "+--------------+-------------------+\n",
      "|12/1/2010 8:26|2009-12-27 08:26:00|\n",
      "|12/1/2010 8:26|2009-12-27 08:26:00|\n",
      "|12/1/2010 8:26|2009-12-27 08:26:00|\n",
      "|12/1/2010 8:26|2009-12-27 08:26:00|\n",
      "+--------------+-------------------+\n",
      "only showing top 4 rows\n",
      "\n"
     ]
    }
   ],
   "source": [
    "pdf.select(\n",
    "    'InvoiceDate', \n",
    "    from_unixtime(unix_timestamp('InvoiceDate', 'mm/dd/YYYY HH:mm')).alias('date')\n",
    ").show(4)"
   ]
  },
  {
   "cell_type": "code",
   "execution_count": 5,
   "metadata": {},
   "outputs": [
    {
     "name": "stdout",
     "output_type": "stream",
     "text": [
      "+---------+---------+--------------------+--------+--------------+---------+----------+--------------+\n",
      "|InvoiceNo|StockCode|         Description|Quantity|   InvoiceDate|UnitPrice|CustomerID|       Country|\n",
      "+---------+---------+--------------------+--------+--------------+---------+----------+--------------+\n",
      "|   536365|   85123A|WHITE HANGING HEA...|       6|12/1/2010 8:26|     2.55|     17850|United Kingdom|\n",
      "|   536365|    71053| WHITE METAL LANTERN|       6|12/1/2010 8:26|     3.39|     17850|United Kingdom|\n",
      "|   536365|   84406B|CREAM CUPID HEART...|       8|12/1/2010 8:26|     2.75|     17850|United Kingdom|\n",
      "+---------+---------+--------------------+--------+--------------+---------+----------+--------------+\n",
      "only showing top 3 rows\n",
      "\n"
     ]
    }
   ],
   "source": [
    "pdf.show(3)"
   ]
  },
  {
   "cell_type": "code",
   "execution_count": 6,
   "metadata": {},
   "outputs": [
    {
     "name": "stdout",
     "output_type": "stream",
     "text": [
      "+--------+-----------------------+----+\n",
      "|Quantity|count(DISTINCT Country)| miu|\n",
      "+--------+-----------------------+----+\n",
      "|      34|                      1|1.66|\n",
      "|      -1|                      2|1.45|\n",
      "|      28|                      1|0.21|\n",
      "|      27|                      1|1.45|\n",
      "|     384|                      1|2.95|\n",
      "+--------+-----------------------+----+\n",
      "only showing top 5 rows\n",
      "\n"
     ]
    }
   ],
   "source": [
    "from pyspark.sql.functions import countDistinct\n",
    "pdf.groupBy(pdf.Quantity).agg(countDistinct(\"Country\"),min(\"UnitPrice\")).withColumnRenamed(\"min(UnitPrice)\",\"miu\").show(5)"
   ]
  },
  {
   "cell_type": "code",
   "execution_count": 27,
   "metadata": {},
   "outputs": [
    {
     "data": {
      "text/plain": [
       "46"
      ]
     },
     "execution_count": 27,
     "metadata": {},
     "output_type": "execute_result"
    }
   ],
   "source": [
    "pdf.groupBy(pdf.Quantity).agg(countDistinct(\"Country\"),min(\"UnitPrice\")).\\\n",
    "withColumnRenamed(\"min(UnitPrice)\",\"miu\").filter(col(\"Quantity\")>0).count()"
   ]
  },
  {
   "cell_type": "code",
   "execution_count": 8,
   "metadata": {},
   "outputs": [
    {
     "name": "stdout",
     "output_type": "stream",
     "text": [
      "+---------+---------+-----------+--------+-----------+---------+----------+-------+\n",
      "|InvoiceNo|StockCode|Description|Quantity|InvoiceDate|UnitPrice|CustomerID|Country|\n",
      "+---------+---------+-----------+--------+-----------+---------+----------+-------+\n",
      "|        0|        0|         10|       0|          0|        0|      1140|      0|\n",
      "+---------+---------+-----------+--------+-----------+---------+----------+-------+\n",
      "\n"
     ]
    }
   ],
   "source": [
    "pdf.select([count(when( col(c).isNull(), c)).alias(c) for c in pdf.columns]).show()"
   ]
  },
  {
   "cell_type": "code",
   "execution_count": 9,
   "metadata": {},
   "outputs": [
    {
     "data": {
      "text/plain": [
       "3108"
      ]
     },
     "execution_count": 9,
     "metadata": {},
     "output_type": "execute_result"
    }
   ],
   "source": [
    "pdf.count()"
   ]
  },
  {
   "cell_type": "code",
   "execution_count": 10,
   "metadata": {},
   "outputs": [
    {
     "data": {
      "text/plain": [
       "1968"
      ]
     },
     "execution_count": 10,
     "metadata": {},
     "output_type": "execute_result"
    }
   ],
   "source": [
    "pdf.na.drop(\"any\",subset=[\"Description\",\"CustomerID\"]).count()"
   ]
  },
  {
   "cell_type": "code",
   "execution_count": 11,
   "metadata": {},
   "outputs": [],
   "source": [
    "pdf=pdf.na.drop(\"any\",subset=[\"Description\",\"CustomerID\"])"
   ]
  },
  {
   "cell_type": "code",
   "execution_count": 12,
   "metadata": {},
   "outputs": [
    {
     "name": "stdout",
     "output_type": "stream",
     "text": [
      "+---------+---------+-----------+--------+-----------+---------+----------+-------+\n",
      "|InvoiceNo|StockCode|Description|Quantity|InvoiceDate|UnitPrice|CustomerID|Country|\n",
      "+---------+---------+-----------+--------+-----------+---------+----------+-------+\n",
      "|      127|      946|        948|      55|        113|       69|        98|      7|\n",
      "+---------+---------+-----------+--------+-----------+---------+----------+-------+\n",
      "\n"
     ]
    }
   ],
   "source": [
    "pdf.select([countDistinct(c).alias(c) for c in pdf.columns]).show()"
   ]
  },
  {
   "cell_type": "code",
   "execution_count": 13,
   "metadata": {},
   "outputs": [
    {
     "name": "stdout",
     "output_type": "stream",
     "text": [
      "root\n",
      " |-- InvoiceNo: string (nullable = true)\n",
      " |-- StockCode: string (nullable = true)\n",
      " |-- Description: string (nullable = true)\n",
      " |-- Quantity: integer (nullable = true)\n",
      " |-- InvoiceDate: string (nullable = true)\n",
      " |-- UnitPrice: double (nullable = true)\n",
      " |-- CustomerID: integer (nullable = true)\n",
      " |-- Country: string (nullable = true)\n",
      "\n"
     ]
    }
   ],
   "source": [
    "pdf.printSchema()"
   ]
  },
  {
   "cell_type": "code",
   "execution_count": 14,
   "metadata": {},
   "outputs": [],
   "source": [
    "pdf=pdf.withColumn(\"hu\",round(pdf.Quantity+pdf.UnitPrice/3,3))"
   ]
  },
  {
   "cell_type": "code",
   "execution_count": 18,
   "metadata": {},
   "outputs": [
    {
     "name": "stdout",
     "output_type": "stream",
     "text": [
      "root\n",
      " |-- InvoiceNo: integer (nullable = true)\n",
      " |-- StockCode: string (nullable = true)\n",
      " |-- Description: string (nullable = true)\n",
      " |-- Quantity: integer (nullable = true)\n",
      " |-- InvoiceDate: string (nullable = true)\n",
      " |-- UnitPrice: double (nullable = true)\n",
      " |-- CustomerID: integer (nullable = true)\n",
      " |-- Country: string (nullable = true)\n",
      " |-- hu: double (nullable = true)\n",
      "\n"
     ]
    }
   ],
   "source": [
    "pdf.printSchema()"
   ]
  },
  {
   "cell_type": "code",
   "execution_count": 16,
   "metadata": {},
   "outputs": [
    {
     "name": "stdout",
     "output_type": "stream",
     "text": [
      "+---------+---------+--------------------+--------+--------------+---------+----------+--------------+----+\n",
      "|InvoiceNo|StockCode|         Description|Quantity|   InvoiceDate|UnitPrice|CustomerID|       Country|  hu|\n",
      "+---------+---------+--------------------+--------+--------------+---------+----------+--------------+----+\n",
      "|   536365|   85123A|WHITE HANGING HEA...|       6|12/1/2010 8:26|     2.55|     17850|United Kingdom|6.85|\n",
      "|   536365|    71053| WHITE METAL LANTERN|       6|12/1/2010 8:26|     3.39|     17850|United Kingdom|7.13|\n",
      "+---------+---------+--------------------+--------+--------------+---------+----------+--------------+----+\n",
      "only showing top 2 rows\n",
      "\n"
     ]
    }
   ],
   "source": [
    "pdf.show(2)"
   ]
  },
  {
   "cell_type": "code",
   "execution_count": 17,
   "metadata": {},
   "outputs": [],
   "source": [
    "from pyspark.sql.types import IntegerType\n",
    "pdf = pdf.withColumn(\"InvoiceNo\", pdf[\"InvoiceNo\"].cast(IntegerType()))"
   ]
  },
  {
   "cell_type": "code",
   "execution_count": 22,
   "metadata": {},
   "outputs": [
    {
     "name": "stdout",
     "output_type": "stream",
     "text": [
      "+--------------+------+---------------------------+-----------+\n",
      "|       Country|   123|count(DISTINCT Description)|total_count|\n",
      "+--------------+------+---------------------------+-----------+\n",
      "|       Germany|536527|                         27|         29|\n",
      "|        France|536370|                         20|         20|\n",
      "|          EIRE|536541|                         21|         21|\n",
      "|        Norway|536532|                         73|         73|\n",
      "|     Australia|536389|                         14|         14|\n",
      "|United Kingdom|536597|                        899|       1809|\n",
      "|   Netherlands|536403|                          2|          2|\n",
      "+--------------+------+---------------------------+-----------+\n",
      "\n"
     ]
    }
   ],
   "source": [
    "pdf.groupBy(\"Country\").agg(max(\"InvoiceNo\").alias(\"123\"),\\\n",
    "                           countDistinct(\"Description\"),count(\"InvoiceDate\").alias(\"total_count\")).show()"
   ]
  },
  {
   "cell_type": "code",
   "execution_count": 23,
   "metadata": {},
   "outputs": [],
   "source": [
    "pdf.createOrReplaceTempView(\"temp_view\")"
   ]
  },
  {
   "cell_type": "code",
   "execution_count": 26,
   "metadata": {},
   "outputs": [
    {
     "name": "stdout",
     "output_type": "stream",
     "text": [
      "+---------+---------+--------------------+--------+--------------+---------+----------+--------------+----+\n",
      "|InvoiceNo|StockCode|         Description|Quantity|   InvoiceDate|UnitPrice|CustomerID|       Country|  hu|\n",
      "+---------+---------+--------------------+--------+--------------+---------+----------+--------------+----+\n",
      "|   536365|   85123A|WHITE HANGING HEA...|       6|12/1/2010 8:26|     2.55|     17850|United Kingdom|6.85|\n",
      "|   536365|    71053| WHITE METAL LANTERN|       6|12/1/2010 8:26|     3.39|     17850|United Kingdom|7.13|\n",
      "+---------+---------+--------------------+--------+--------------+---------+----------+--------------+----+\n",
      "only showing top 2 rows\n",
      "\n"
     ]
    }
   ],
   "source": [
    "spark.sql(\"select * from temp_view\").show(2)"
   ]
  },
  {
   "cell_type": "code",
   "execution_count": 29,
   "metadata": {},
   "outputs": [
    {
     "name": "stdout",
     "output_type": "stream",
     "text": [
      "+---------+---------+--------------------+--------+---------------+---------+----------+--------------+------+\n",
      "|InvoiceNo|StockCode|         Description|Quantity|    InvoiceDate|UnitPrice|CustomerID|       Country|    hu|\n",
      "+---------+---------+--------------------+--------+---------------+---------+----------+--------------+------+\n",
      "|   536392|    22827|RUSTIC  SEVENTEEN...|       1|12/1/2010 10:29|    165.0|     13705|United Kingdom|  56.0|\n",
      "|   536540|       C2|            CARRIAGE|       1|12/1/2010 14:05|     50.0|     14911|          EIRE|17.667|\n",
      "|   536396|    22803|IVORY EMBROIDERED...|       2|12/1/2010 10:51|    35.75|     17850|United Kingdom|13.917|\n",
      "|   536406|    22803|IVORY EMBROIDERED...|       2|12/1/2010 11:33|    35.75|     17850|United Kingdom|13.917|\n",
      "|   536569|    21761|WOOD AND GLASS ME...|       1|12/1/2010 15:35|    29.95|     16274|United Kingdom|10.983|\n",
      "|     null|        D|            Discount|      -1| 12/1/2010 9:41|     27.5|     14527|United Kingdom| 8.167|\n",
      "|   536530|    22783|SET 3 WICKER OVAL...|       1|12/1/2010 13:21|    19.95|     17905|United Kingdom|  7.65|\n",
      "|   536385|    22783|SET 3 WICKER OVAL...|       1| 12/1/2010 9:56|    19.95|     17420|United Kingdom|  7.65|\n",
      "|   536539|    85067|CREAM SWEETHEART ...|       1|12/1/2010 14:03|    18.95|     15165|United Kingdom| 7.317|\n",
      "|   536569|        M|              Manual|       1|12/1/2010 15:35|    18.95|     16274|United Kingdom| 7.317|\n",
      "+---------+---------+--------------------+--------+---------------+---------+----------+--------------+------+\n",
      "only showing top 10 rows\n",
      "\n"
     ]
    }
   ],
   "source": [
    "pdf.orderBy(pdf.UnitPrice.desc()).show(10)"
   ]
  },
  {
   "cell_type": "code",
   "execution_count": 33,
   "metadata": {},
   "outputs": [
    {
     "name": "stdout",
     "output_type": "stream",
     "text": [
      "+---------+---------+--------------------+--------+---------------+---------+----------+--------------+------+\n",
      "|InvoiceNo|StockCode|         Description|Quantity|    InvoiceDate|UnitPrice|CustomerID|       Country|    hu|\n",
      "+---------+---------+--------------------+--------+---------------+---------+----------+--------------+------+\n",
      "|   536392|    22827|RUSTIC  SEVENTEEN...|       1|12/1/2010 10:29|    165.0|     13705|United Kingdom|  56.0|\n",
      "|   536540|       C2|            CARRIAGE|       1|12/1/2010 14:05|     50.0|     14911|          EIRE|17.667|\n",
      "|   536406|    22803|IVORY EMBROIDERED...|       2|12/1/2010 11:33|    35.75|     17850|United Kingdom|13.917|\n",
      "|   536396|    22803|IVORY EMBROIDERED...|       2|12/1/2010 10:51|    35.75|     17850|United Kingdom|13.917|\n",
      "|   536569|    21761|WOOD AND GLASS ME...|       1|12/1/2010 15:35|    29.95|     16274|United Kingdom|10.983|\n",
      "+---------+---------+--------------------+--------+---------------+---------+----------+--------------+------+\n",
      "only showing top 5 rows\n",
      "\n"
     ]
    }
   ],
   "source": [
    "pdf.sort(pdf.UnitPrice.desc()).show(5)"
   ]
  },
  {
   "cell_type": "code",
   "execution_count": 34,
   "metadata": {},
   "outputs": [
    {
     "name": "stdout",
     "output_type": "stream",
     "text": [
      "+---------+-------------+\n",
      "|StockCode|max(Quantity)|\n",
      "+---------+-------------+\n",
      "|    22728|           24|\n",
      "|    21889|           24|\n",
      "+---------+-------------+\n",
      "only showing top 2 rows\n",
      "\n"
     ]
    }
   ],
   "source": [
    "pdf.groupBy(\"StockCode\").agg(max(\"Quantity\")).show(2)"
   ]
  },
  {
   "cell_type": "code",
   "execution_count": null,
   "metadata": {},
   "outputs": [],
   "source": []
  },
  {
   "cell_type": "code",
   "execution_count": null,
   "metadata": {},
   "outputs": [],
   "source": []
  },
  {
   "cell_type": "code",
   "execution_count": null,
   "metadata": {},
   "outputs": [],
   "source": []
  },
  {
   "cell_type": "code",
   "execution_count": null,
   "metadata": {},
   "outputs": [],
   "source": []
  },
  {
   "cell_type": "code",
   "execution_count": null,
   "metadata": {},
   "outputs": [],
   "source": []
  },
  {
   "cell_type": "code",
   "execution_count": null,
   "metadata": {},
   "outputs": [],
   "source": []
  },
  {
   "cell_type": "code",
   "execution_count": null,
   "metadata": {},
   "outputs": [],
   "source": []
  },
  {
   "cell_type": "code",
   "execution_count": null,
   "metadata": {},
   "outputs": [],
   "source": []
  },
  {
   "cell_type": "code",
   "execution_count": null,
   "metadata": {},
   "outputs": [],
   "source": []
  },
  {
   "cell_type": "code",
   "execution_count": null,
   "metadata": {},
   "outputs": [],
   "source": []
  },
  {
   "cell_type": "code",
   "execution_count": null,
   "metadata": {},
   "outputs": [],
   "source": []
  },
  {
   "cell_type": "code",
   "execution_count": null,
   "metadata": {},
   "outputs": [],
   "source": []
  },
  {
   "cell_type": "code",
   "execution_count": null,
   "metadata": {},
   "outputs": [],
   "source": []
  }
 ],
 "metadata": {
  "kernelspec": {
   "display_name": "Python 3",
   "language": "python",
   "name": "python3"
  },
  "language_info": {
   "codemirror_mode": {
    "name": "ipython",
    "version": 3
   },
   "file_extension": ".py",
   "mimetype": "text/x-python",
   "name": "python",
   "nbconvert_exporter": "python",
   "pygments_lexer": "ipython3",
   "version": "3.7.3"
  }
 },
 "nbformat": 4,
 "nbformat_minor": 4
}
