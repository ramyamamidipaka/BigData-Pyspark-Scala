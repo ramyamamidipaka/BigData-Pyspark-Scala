{
 "cells": [
  {
   "cell_type": "markdown",
   "metadata": {},
   "source": [
    "# HW4"
   ]
  },
  {
   "cell_type": "markdown",
   "metadata": {},
   "source": [
    "<b>Instructions:</b> Write your answers in the empty code cells below."
   ]
  },
  {
   "cell_type": "markdown",
   "metadata": {},
   "source": [
    "<b>Penalties:</b> You will incur penalties if:\n",
    "<ul>\n",
    "<li>Your code is wrong</li>\n",
    "<li>Your code does not work on different data</li>\n",
    "<li>Your code is unnecessarily slow (you use a for loop, or you use DataFrame.apply unnecessarily, etc)\n",
    "</ul>"
   ]
  },
  {
   "cell_type": "markdown",
   "metadata": {},
   "source": [
    "Start by downloading the file <i>cleaned_survey.csv</i> in the same folder as this .ipynb file. The file contains the results from the student survey.  "
   ]
  },
  {
   "cell_type": "markdown",
   "metadata": {},
   "source": [
    "Then, execute the code below to load the data in a  dataframe <i>df</i>. "
   ]
  },
  {
   "cell_type": "code",
   "execution_count": 1,
   "metadata": {},
   "outputs": [],
   "source": [
    "from pyspark.sql import SparkSession\n",
    "from pyspark import SparkContext, SparkConf\n",
    "from pyspark.sql.functions import window,column,desc,col,instr,expr, pow,translate,lit\n",
    "from pyspark.sql import Row\n",
    "from pyspark.sql.functions import *\n",
    "from pyspark.sql.types import *\n",
    "from pyspark.sql.functions import unix_timestamp, from_unixtime\n",
    "import pandas as pd\n",
    "\n",
    "spark = SparkSession \\\n",
    "    .builder \\\n",
    "    .appName(\"Foo\") \\\n",
    "    .config(\"spark.executor.memory\", \"1g\") \\\n",
    "    .config(\"spark.driver.memory\", \"1g\") \\\n",
    "    .getOrCreate()\n"
   ]
  },
  {
   "cell_type": "code",
   "execution_count": 3,
   "metadata": {},
   "outputs": [
    {
     "data": {
      "text/plain": [
       "Row(_c0=0, Job=0.0, Program='MSIS', ProgSkills=4, C=1, CPP=1, CS=0, Java=0, Python=1, JS=1, R=0, SQL=1, SAS=0, Excel=1, Tableau=1, Regression=1, Classification=4, Clustering=4, Bach_0to1=0, Bach_1to3=1, Bach_3to5=0, Bach_5Plus=0, Languages=6, Expert=1)"
      ]
     },
     "execution_count": 3,
     "metadata": {},
     "output_type": "execute_result"
    }
   ],
   "source": [
    "df = spark.read.format(\"csv\").option(\"header\", \"true\").option(\"inferSchema\", \"true\").option(\"delimiter\", \",\")\\\n",
    ".option(\"dateFormat\", \"MM/dd/YYYY HH:mm\")\\\n",
    ".load(\"C:/Users/ramya/Desktop/Santa Clara University/Q1/Python Alan Tan/HW4/cleaned_survey-1.csv\")\n",
    "\n",
    "df.head()"
   ]
  },
  {
   "cell_type": "markdown",
   "metadata": {},
   "source": [
    "### Data Set description"
   ]
  },
  {
   "cell_type": "markdown",
   "metadata": {},
   "source": [
    "The data set contains one row for every person who filled the survey. We use <b>person</b> and <b>student</b> interchangeably."
   ]
  },
  {
   "cell_type": "markdown",
   "metadata": {},
   "source": [
    "<ul>\n",
    "<li><b>Job</b>: 0 for those students without a job, 0.5 for those students with a part-time job, and 1 for those students with a full-time job\n",
    "<li><b>Program</b>: program of enrollment\n",
    "<li><b>C-Regression</b>: indicates whether the student knows (1) or doesn't know (0) a certain programming language or topic\n",
    "<li><b>Classification</b>: indicates the level of knowledge (1-5) on classification\n",
    "<li><b>Clustering</b>: indicates the level of knowledge (1-5) on clustering\n",
    "<li><b>Bach_0to1</b>: 1 if time elapsed from graduation is less than a year; 0 otherwise\n",
    "<li><b>Bach_1to3</b>: 1 if time elapsed from graduation is between one and three years; 0 otherwise\n",
    "<li><b>Bach_3to5</b>: 1 if time elapsed from graduation is between three and five years; 0 otherwise\n",
    "<li><b>Bach_5Plus</b>: 1 if time elapsed from graduation is more than five years; 0 otherwise\n",
    "</ul>"
   ]
  },
  {
   "cell_type": "code",
   "execution_count": 4,
   "metadata": {},
   "outputs": [
    {
     "name": "stdout",
     "output_type": "stream",
     "text": [
      "+---+---+-------+----------+---+---+---+----+------+---+---+---+---+-----+-------+----------+--------------+----------+---------+---------+---------+----------+---------+------+\n",
      "|_c0|Job|Program|ProgSkills|  C|CPP| CS|Java|Python| JS|  R|SQL|SAS|Excel|Tableau|Regression|Classification|Clustering|Bach_0to1|Bach_1to3|Bach_3to5|Bach_5Plus|Languages|Expert|\n",
      "+---+---+-------+----------+---+---+---+----+------+---+---+---+---+-----+-------+----------+--------------+----------+---------+---------+---------+----------+---------+------+\n",
      "|  0|0.0|   MSIS|         4|  1|  1|  0|   0|     1|  1|  0|  1|  0|    1|      1|         1|             4|         4|        0|        1|        0|         0|        6|     1|\n",
      "|  1|0.5|   MSIS|         3|  1|  1|  0|   1|     0|  0|  0|  1|  0|    1|      0|         0|             2|         2|        0|        0|        0|         1|        4|     1|\n",
      "|  2|0.0|   MSIS|         3|  0|  0|  0|   1|     1|  0|  0|  1|  0|    1|      0|         1|             3|         3|        0|        0|        1|         0|        3|     1|\n",
      "|  3|0.0|   MSIS|         3|  1|  0|  0|   1|     1|  0|  1|  1|  0|    1|      0|         1|             2|         3|        0|        0|        0|         1|        5|     1|\n",
      "+---+---+-------+----------+---+---+---+----+------+---+---+---+---+-----+-------+----------+--------------+----------+---------+---------+---------+----------+---------+------+\n",
      "only showing top 4 rows\n",
      "\n"
     ]
    }
   ],
   "source": [
    "df.show(4)"
   ]
  },
  {
   "cell_type": "markdown",
   "metadata": {},
   "source": [
    "### Question 1"
   ]
  },
  {
   "cell_type": "markdown",
   "metadata": {},
   "source": [
    "<p>For each programming skill level, compute:</p>\n",
    "<ol>\n",
    "<li><b>PropPJC2</b>:the proportion (0 to 1, computed relatively to the group size) of people that know at least one among Python and Java and their Classification knowledge has to be at least 2. \n",
    "<li><b>StdevClust</b>:the standard deviation of the Clustering knowledge (function <i>std</i>)\n",
    "</ol>\n",
    "<p>You should return one data frame with one row for each programming skill level and two columns named <b>PropPy_or_Java_and_Class2+</b> and <b>StdevClass</b>. Don't worry about having a Hierarchical Index for the columns.</p> \n",
    "\n",
    "(In Camino, pick the correct **PropPy_or_Java_and_Class2+** number for student with ProgSkills = 5 )"
   ]
  },
  {
   "cell_type": "code",
   "execution_count": 33,
   "metadata": {},
   "outputs": [
    {
     "name": "stdout",
     "output_type": "stream",
     "text": [
      "+----------+-----+-----------------------+\n",
      "|ProgSkills| mean|stddev_samp(Clustering)|\n",
      "+----------+-----+-----------------------+\n",
      "|         1|  0.0|     0.7867957924694432|\n",
      "|         2|0.364|     0.6875516509523286|\n",
      "|         3|0.621|     1.0850529486978193|\n",
      "|         4|0.583|     1.0836246694508316|\n",
      "|         5|  0.5|     0.7071067811865476|\n",
      "+----------+-----+-----------------------+\n",
      "\n"
     ]
    }
   ],
   "source": [
    "import pyspark.sql.functions as func\n",
    "from pyspark.sql.functions import col, when\n",
    "\n",
    "df=df.withColumn(\"PropPy_or_Java_and_Class2\", when((col(\"Classification\")>=2) & ((col(\"Python\")+col(\"Java\"))>=1), 1.0).otherwise(0.0))\n",
    "\n",
    "df.groupby(\"ProgSkills\").agg(round(mean(\"PropPy_or_Java_and_Class2\"),3),stddev(\"Clustering\")).\\\n",
    "sort(col(\"ProgSkills\")).withColumnRenamed(\"round(avg(PropPy_or_Java_and_Class2), 3)\",\"mean\").show()"
   ]
  },
  {
   "cell_type": "markdown",
   "metadata": {},
   "source": [
    "### Question 2"
   ]
  },
  {
   "cell_type": "markdown",
   "metadata": {},
   "source": [
    "For each program, how many people have a Programming Skill knowledge of less than 4? Report one row for each existing program. \n",
    "\n",
    "(In Camino, fill in the number of students for MBA and MSIS in a format of MBA_total/MSIS_total. For example : 10/23 )"
   ]
  },
  {
   "cell_type": "code",
   "execution_count": 36,
   "metadata": {},
   "outputs": [],
   "source": [
    "import pyspark.sql.functions as func\n",
    "cond=lambda x : func.sum((when(x<4,1)).otherwise(0))"
   ]
  },
  {
   "cell_type": "code",
   "execution_count": 38,
   "metadata": {},
   "outputs": [
    {
     "name": "stdout",
     "output_type": "stream",
     "text": [
      "+--------------------+-------------------------------------------------+\n",
      "|             Program|sum(CASE WHEN (ProgSkills < 4) THEN 1 ELSE 0 END)|\n",
      "+--------------------+-------------------------------------------------+\n",
      "|   Master of Finance|                                                0|\n",
      "|        Business Man|                                                1|\n",
      "|            Faculty!|                                                1|\n",
      "|Supply Chain Mgmt...|                                                2|\n",
      "|                MSIS|                                               30|\n",
      "|                 MBA|                                               13|\n",
      "+--------------------+-------------------------------------------------+\n",
      "\n"
     ]
    }
   ],
   "source": [
    "df.groupby(\"Program\").agg(cond(func.col(\"ProgSkills\"))).show()"
   ]
  },
  {
   "cell_type": "markdown",
   "metadata": {},
   "source": [
    "### Question 3"
   ]
  },
  {
   "cell_type": "markdown",
   "metadata": {},
   "source": [
    "For each Job, return the rows of those people who, within their group, know the most Languages. (In Camino, pick the correct total number of people who satisfy this condition)"
   ]
  },
  {
   "cell_type": "code",
   "execution_count": 44,
   "metadata": {},
   "outputs": [],
   "source": [
    "def max_l(df):\n",
    "    return df.Languages.max()"
   ]
  },
  {
   "cell_type": "code",
   "execution_count": 47,
   "metadata": {},
   "outputs": [
    {
     "name": "stdout",
     "output_type": "stream",
     "text": [
      "+---+---+-------+----------+---+---+---+----+------+---+---+---+---+-----+-------+----------+--------------+----------+---------+---------+---------+----------+---------+------+-------------------------+\n",
      "|_c0|Job|Program|ProgSkills|  C|CPP| CS|Java|Python| JS|  R|SQL|SAS|Excel|Tableau|Regression|Classification|Clustering|Bach_0to1|Bach_1to3|Bach_3to5|Bach_5Plus|Languages|Expert|PropPy_or_Java_and_Class2|\n",
      "+---+---+-------+----------+---+---+---+----+------+---+---+---+---+-----+-------+----------+--------------+----------+---------+---------+---------+----------+---------+------+-------------------------+\n",
      "| 46|0.0|   MSIS|         4|  1|  1|  1|   1|     1|  1|  0|  1|  0|    1|      1|         1|             2|         2|        0|        1|        0|         0|        7|     1|                      1.0|\n",
      "| 45|1.0|   MSIS|         3|  1|  1|  0|   1|     1|  1|  1|  1|  0|    0|      1|         1|             2|         2|        0|        1|        0|         0|        7|     1|                      1.0|\n",
      "| 60|1.0|    MBA|         3|  1|  1|  1|   1|     1|  1|  0|  1|  0|    1|      0|         1|             1|         1|        0|        0|        0|         1|        7|     1|                      0.0|\n",
      "| 23|0.5|   MSIS|         3|  1|  1|  0|   1|     1|  1|  0|  1|  0|    1|      1|         0|             2|         2|        0|        0|        1|         0|        6|     1|                      1.0|\n",
      "| 50|0.5|    MBA|         3|  0|  0|  0|   1|     1|  1|  1|  1|  1|    1|      1|         1|             3|         3|        0|        1|        0|         0|        6|     1|                      1.0|\n",
      "+---+---+-------+----------+---+---+---+----+------+---+---+---+---+-----+-------+----------+--------------+----------+---------+---------+---------+----------+---------+------+-------------------------+\n",
      "\n"
     ]
    }
   ],
   "source": [
    "from pyspark.sql import Window\n",
    "import pyspark.sql.functions as f\n",
    "\n",
    "w = Window.partitionBy('Job')\n",
    "df.withColumn('max_L', f.max('Languages').over(w))\\\n",
    "    .where(f.col('Languages') == f.col('max_L'))\\\n",
    "    .drop('max_L')\\\n",
    "    .show()"
   ]
  },
  {
   "cell_type": "code",
   "execution_count": 50,
   "metadata": {},
   "outputs": [
    {
     "name": "stdout",
     "output_type": "stream",
     "text": [
      "+-----+--------------------+---+---------+\n",
      "|max_L|             Program|Job|Languages|\n",
      "+-----+--------------------+---+---------+\n",
      "|    7|                MSIS|0.0|        6|\n",
      "|    7|                MSIS|0.0|        3|\n",
      "|    7|                MSIS|0.0|        5|\n",
      "|    7|                MSIS|0.0|        4|\n",
      "|    7|                MSIS|0.0|        4|\n",
      "|    7|                MSIS|0.0|        3|\n",
      "|    7|Supply Chain Mgmt...|0.0|        3|\n",
      "|    7|                MSIS|0.0|        4|\n",
      "|    7|                MSIS|0.0|        5|\n",
      "|    7|                 MBA|0.0|        1|\n",
      "|    7|                 MBA|0.0|        2|\n",
      "|    7|                MSIS|0.0|        6|\n",
      "|    7|                MSIS|0.0|        1|\n",
      "|    7|                MSIS|0.0|        3|\n",
      "|    7|                 MBA|0.0|        3|\n",
      "|    7|                MSIS|0.0|        3|\n",
      "|    7|                MSIS|0.0|        6|\n",
      "|    7|   Master of Finance|0.0|        5|\n",
      "|    7|                MSIS|0.0|        1|\n",
      "|    7|                 MBA|0.0|        3|\n",
      "|    7|                MSIS|0.0|        3|\n",
      "|    7|                MSIS|0.0|        3|\n",
      "|    7|                MSIS|0.0|        4|\n",
      "|    7|                MSIS|0.0|        5|\n",
      "|    7|                MSIS|0.0|        5|\n",
      "|    7|                MSIS|0.0|        7|\n",
      "|    7|                MSIS|0.0|        5|\n",
      "|    7|                MSIS|0.0|        3|\n",
      "|    7|                MSIS|0.0|        5|\n",
      "|    7|                MSIS|0.0|        5|\n",
      "|    7|                MSIS|0.0|        3|\n",
      "|    7|                MSIS|0.0|        3|\n",
      "|    7|Supply Chain Mgmt...|1.0|        1|\n",
      "|    7|                 MBA|1.0|        0|\n",
      "|    7|                 MBA|1.0|        1|\n",
      "|    7|                 MBA|1.0|        5|\n",
      "|    7|                 MBA|1.0|        0|\n",
      "|    7|            Faculty!|1.0|        3|\n",
      "|    7|                 MBA|1.0|        3|\n",
      "|    7|        Business Man|1.0|        2|\n",
      "|    7|                 MBA|1.0|        5|\n",
      "|    7|                MSIS|1.0|        6|\n",
      "|    7|                MSIS|1.0|        7|\n",
      "|    7|                 MBA|1.0|        4|\n",
      "|    7|                 MBA|1.0|        3|\n",
      "|    7|                 MBA|1.0|        7|\n",
      "|    6|                MSIS|0.5|        4|\n",
      "|    6|                MSIS|0.5|        4|\n",
      "|    6|                 MBA|0.5|        5|\n",
      "|    6|                MSIS|0.5|        5|\n",
      "|    6|                 MBA|0.5|        1|\n",
      "|    6|                MSIS|0.5|        2|\n",
      "|    6|                MSIS|0.5|        6|\n",
      "|    6|                MSIS|0.5|        4|\n",
      "|    6|                MSIS|0.5|        5|\n",
      "|    6|                MSIS|0.5|        4|\n",
      "|    6|                MSIS|0.5|        5|\n",
      "|    6|                 MBA|0.5|        6|\n",
      "|    6|                MSIS|0.5|        5|\n",
      "|    6|                MSIS|0.5|        3|\n",
      "|    6|                MSIS|0.5|        3|\n",
      "+-----+--------------------+---+---------+\n",
      "\n"
     ]
    }
   ],
   "source": [
    "df.withColumn('max_L', f.max('Languages').over(w)).select(\"max_L\",\"Program\",\"Job\",\"Languages\").show(100)"
   ]
  },
  {
   "cell_type": "markdown",
   "metadata": {},
   "source": [
    "### Question 4"
   ]
  },
  {
   "cell_type": "markdown",
   "metadata": {},
   "source": [
    "Let us define the \"data science experience\" of a given person as the person's largest score among Regression, Classification, and Clustering. Compute the average data science experience among all MSIS students. \n",
    "(In Camino, pick the correct number)"
   ]
  },
  {
   "cell_type": "code",
   "execution_count": 55,
   "metadata": {},
   "outputs": [
    {
     "name": "stdout",
     "output_type": "stream",
     "text": [
      "+----------+--------------+----------+-----------------------+\n",
      "|Regression|Classification|Clustering|data science experience|\n",
      "+----------+--------------+----------+-----------------------+\n",
      "|         1|             4|         4|                      4|\n",
      "|         0|             2|         2|                      2|\n",
      "|         1|             3|         3|                      3|\n",
      "+----------+--------------+----------+-----------------------+\n",
      "only showing top 3 rows\n",
      "\n"
     ]
    }
   ],
   "source": [
    "from pyspark.sql.functions import greatest\n",
    "df.withColumn(\"data science experience\",greatest(col(\"Regression\"),col(\"Classification\"),col(\"Clustering\"))).select(\\\n",
    "                    \"Regression\",\"Classification\",\"Clustering\",\"data science experience\").show(3)"
   ]
  },
  {
   "cell_type": "code",
   "execution_count": 59,
   "metadata": {},
   "outputs": [
    {
     "name": "stdout",
     "output_type": "stream",
     "text": [
      "+----------------------------+\n",
      "|avg(data science experience)|\n",
      "+----------------------------+\n",
      "|                       1.875|\n",
      "+----------------------------+\n",
      "\n"
     ]
    }
   ],
   "source": [
    "df.withColumn(\"data science experience\",greatest(col(\"Regression\"),col(\"Classification\"),col(\"Clustering\"))).\\\n",
    "filter(col(\"Program\")==\"MSIS\").agg({\"data science experience\":\"mean\"}).show(4)"
   ]
  },
  {
   "cell_type": "markdown",
   "metadata": {},
   "source": [
    "### Question 5"
   ]
  },
  {
   "cell_type": "markdown",
   "metadata": {},
   "source": [
    "Among those with at least one year elapsed from their Bachelor's degree, find out who is the \"most knowledgeable\" person. The most knowledgeable person is the one who knows Classification best (in case of ties, consider whether they know C, then CPP, then CS, then Java, then SAS). Retrieve that person's Program information. (pick the right one in Camino)"
   ]
  },
  {
   "cell_type": "code",
   "execution_count": 69,
   "metadata": {},
   "outputs": [
    {
     "name": "stdout",
     "output_type": "stream",
     "text": [
      "+--------+\n",
      "| Program|\n",
      "+--------+\n",
      "|Faculty!|\n",
      "+--------+\n",
      "only showing top 1 row\n",
      "\n"
     ]
    }
   ],
   "source": [
    "df.filter(col(\"Bach_0to1\")==0).orderBy([\"Classification\",\"C\",\"CPP\",\"CS\",\"Java\",\"SAS\"],ascending=False).select(\"Program\").show(1)"
   ]
  },
  {
   "cell_type": "code",
   "execution_count": 70,
   "metadata": {},
   "outputs": [
    {
     "name": "stdout",
     "output_type": "stream",
     "text": [
      "+-------+\n",
      "|Program|\n",
      "+-------+\n",
      "|    MBA|\n",
      "+-------+\n",
      "only showing top 1 row\n",
      "\n"
     ]
    }
   ],
   "source": [
    "df.filter(col(\"Bach_0to1\")==0).orderBy([\"Classification\",\"C\"],ascending=[False,True]).select(\"Program\").show(1)"
   ]
  }
 ],
 "metadata": {
  "kernelspec": {
   "display_name": "Python 3",
   "language": "python",
   "name": "python3"
  },
  "language_info": {
   "codemirror_mode": {
    "name": "ipython",
    "version": 3
   },
   "file_extension": ".py",
   "mimetype": "text/x-python",
   "name": "python",
   "nbconvert_exporter": "python",
   "pygments_lexer": "ipython3",
   "version": "3.7.3"
  }
 },
 "nbformat": 4,
 "nbformat_minor": 1
}
