{
 "cells": [
  {
   "cell_type": "code",
   "execution_count": 1,
   "metadata": {},
   "outputs": [],
   "source": [
    "from pyspark.sql import SparkSession\n",
    "from pyspark import SparkContext, SparkConf\n",
    "from pyspark.sql.functions import window,column,desc,col,instr,expr, pow,translate,lit\n",
    "from pyspark.sql import Row\n",
    "from pyspark.sql.functions import *\n",
    "from pyspark.sql.types import *\n",
    "from pyspark.sql.functions import unix_timestamp, from_unixtime\n",
    "import pandas as pd\n",
    "from pyspark.sql import Window\n",
    "import pyspark.sql.functions as f\n",
    "\n",
    "spark = SparkSession \\\n",
    "    .builder \\\n",
    "    .appName(\"Foo\") \\\n",
    "    .config(\"spark.executor.memory\", \"1g\") \\\n",
    "    .config(\"spark.driver.memory\", \"1g\") \\\n",
    "    .getOrCreate()"
   ]
  },
  {
   "cell_type": "markdown",
   "metadata": {},
   "source": [
    "You can monitor the progress of a job through the Spark web UI. The Spark UI is available on port 4040 of the driver node. If you are running in local mode, this will be http://localhost:4040"
   ]
  },
  {
   "cell_type": "code",
   "execution_count": 2,
   "metadata": {},
   "outputs": [
    {
     "data": {
      "text/plain": [
       "Row(ID=1, Title='Inception', Year='2010', Age='13+', IMDb=8.8, Rotten Tomatoes='87%', Netflix=1, Hulu=0, Prime Video=0, Disney+=0, Directors='Christopher Nolan', Genres='Action,Adventure,Sci-Fi,Thriller', Country='United States,United Kingdom', Language='English,Japanese,French', Runtime=148)"
      ]
     },
     "execution_count": 2,
     "metadata": {},
     "output_type": "execute_result"
    }
   ],
   "source": [
    "movie_data = spark.read.format(\"csv\").option(\"header\", \"true\").option(\"inferSchema\", \"true\").option(\"delimiter\", \",\")\\\n",
    ".option(\"dateFormat\", \"MM/dd/YYYY HH:mm\")\\\n",
    ".load(\"C:/Users/ramya/Desktop/Santa_Clara_University/Projects/TODO/Moviesallstreaming/MoviesOnStreamingPlatforms_updated.csv\")\n",
    "\n",
    "movie_data.head()"
   ]
  },
  {
   "cell_type": "code",
   "execution_count": 3,
   "metadata": {},
   "outputs": [
    {
     "name": "stdout",
     "output_type": "stream",
     "text": [
      "== Physical Plan ==\n",
      "*(1) Sort [Title#17 ASC NULLS FIRST], true, 0\n",
      "+- Exchange rangepartitioning(Title#17 ASC NULLS FIRST, 200), true, [id=#32]\n",
      "   +- FileScan csv [ID#16,Title#17,Year#18,Age#19,IMDb#20,Rotten Tomatoes#21,Netflix#22,Hulu#23,Prime Video#24,Disney+#25,Directors#26,Genres#27,Country#28,Language#29,Runtime#30] Batched: false, DataFilters: [], Format: CSV, Location: InMemoryFileIndex[file:/C:/Users/ramya/Desktop/Santa_Clara_University/Projects/TODO/Moviesallstre..., PartitionFilters: [], PushedFilters: [], ReadSchema: struct<ID:int,Title:string,Year:string,Age:string,IMDb:double,Rotten Tomatoes:string,Netflix:int,...\n",
      "\n",
      "\n"
     ]
    }
   ],
   "source": [
    "movie_data.sort(\"Title\").explain()"
   ]
  },
  {
   "cell_type": "markdown",
   "metadata": {},
   "source": [
    "**SCHEMA**"
   ]
  },
  {
   "cell_type": "markdown",
   "metadata": {},
   "source": [
    "A schema is a StructType made up of a number of fields, StructFields, that have a name, type, a Boolean flag which specifies whether that column can contain missing or null values, and, finally, users can optionally specify associated metadata with that column. The metadata is a way of storing information about this column (Spark uses this in its machine learning library)."
   ]
  },
  {
   "cell_type": "code",
   "execution_count": 4,
   "metadata": {},
   "outputs": [
    {
     "data": {
      "text/plain": [
       "StructType(List(StructField(ID,IntegerType,true),StructField(Title,StringType,true),StructField(Year,StringType,true),StructField(Age,StringType,true),StructField(IMDb,DoubleType,true),StructField(Rotten Tomatoes,StringType,true),StructField(Netflix,IntegerType,true),StructField(Hulu,IntegerType,true),StructField(Prime Video,IntegerType,true),StructField(Disney+,IntegerType,true),StructField(Directors,StringType,true),StructField(Genres,StringType,true),StructField(Country,StringType,true),StructField(Language,StringType,true),StructField(Runtime,IntegerType,true)))"
      ]
     },
     "execution_count": 4,
     "metadata": {},
     "output_type": "execute_result"
    }
   ],
   "source": [
    "movie_data.schema"
   ]
  },
  {
   "cell_type": "code",
   "execution_count": 5,
   "metadata": {},
   "outputs": [],
   "source": [
    "spark.conf.set(\"spark.sql.shuffle.partitions\", \"5\")"
   ]
  },
  {
   "cell_type": "code",
   "execution_count": 6,
   "metadata": {},
   "outputs": [
    {
     "data": {
      "text/plain": [
       "DataFrame[ID: int, Title: string, Year: string, Age: string, IMDb: double, Rotten Tomatoes: string, Netflix: int, Hulu: int, Prime Video: int, Disney+: int, Directors: string, Genres: string, Country: string, Language: string, Runtime: int]"
      ]
     },
     "execution_count": 6,
     "metadata": {},
     "output_type": "execute_result"
    }
   ],
   "source": [
    "fill_cols_vals = {\"IMDb\": 0, \"Age\" : \"all\"}\n",
    "movie_data.na.fill(fill_cols_vals)"
   ]
  },
  {
   "cell_type": "markdown",
   "metadata": {},
   "source": [
    "**MAX RUN TIME**"
   ]
  },
  {
   "cell_type": "code",
   "execution_count": 7,
   "metadata": {},
   "outputs": [
    {
     "data": {
      "text/plain": [
       "[Row(max(Runtime)=1256)]"
      ]
     },
     "execution_count": 7,
     "metadata": {},
     "output_type": "execute_result"
    }
   ],
   "source": [
    "movie_data.select(max(\"Runtime\")).take(1)"
   ]
  },
  {
   "cell_type": "markdown",
   "metadata": {},
   "source": [
    "**TOP MOST MOVIES PRODUCING YEARS OVERALL**"
   ]
  },
  {
   "cell_type": "code",
   "execution_count": 8,
   "metadata": {},
   "outputs": [
    {
     "name": "stdout",
     "output_type": "stream",
     "text": [
      "+----+------------+\n",
      "|Year|Count_movies|\n",
      "+----+------------+\n",
      "|2017|        1401|\n",
      "|2018|        1284|\n",
      "|2016|        1206|\n",
      "|2015|        1065|\n",
      "|2014|         986|\n",
      "+----+------------+\n",
      "only showing top 5 rows\n",
      "\n"
     ]
    }
   ],
   "source": [
    "movie_data.groupBy(\"Year\").count().withColumnRenamed(\"count\", \"Count_movies\").\\\n",
    "sort(desc(\"Count_movies\")).show(5)"
   ]
  },
  {
   "cell_type": "markdown",
   "metadata": {},
   "source": [
    "**TOP MOST MOVIES PRODUCING YEARS FOR EACH PLATFORM**"
   ]
  },
  {
   "cell_type": "code",
   "execution_count": 9,
   "metadata": {},
   "outputs": [
    {
     "name": "stdout",
     "output_type": "stream",
     "text": [
      "+----+--------------+---------+----------------+------------+\n",
      "|Year|Movies_Netflix|sum(Hulu)|sum(Prime Video)|sum(Disney+)|\n",
      "+----+--------------+---------+----------------+------------+\n",
      "|2020|           104|        6|              31|           9|\n",
      "|2019|           428|      104|             172|          23|\n",
      "|2018|           560|      158|             624|          16|\n",
      "|2017|           569|      124|             763|          22|\n",
      "|2016|           444|       62|             730|          17|\n",
      "|2015|           272|       61|             765|          10|\n",
      "|2014|           174|       46|             783|          12|\n",
      "|2013|           133|       45|             811|          12|\n",
      "+----+--------------+---------+----------------+------------+\n",
      "only showing top 8 rows\n",
      "\n"
     ]
    }
   ],
   "source": [
    "movie_data.groupBy(\"Year\").agg(sum(\"Netflix\"),sum(\"Hulu\"),sum(\"Prime Video\"),sum(\"Disney+\")).sort(desc(\"Year\")).\\\n",
    "withColumnRenamed(\"sum(Netflix)\",\"Movies_Netflix\").show(8)"
   ]
  },
  {
   "cell_type": "markdown",
   "metadata": {},
   "source": [
    "**AGE WISE AVERAGE RATING ON EACH PLATFORM**"
   ]
  },
  {
   "cell_type": "code",
   "execution_count": 10,
   "metadata": {},
   "outputs": [
    {
     "name": "stdout",
     "output_type": "stream",
     "text": [
      "+---+----+-----------+\n",
      "|Age|Year|Mean_rating|\n",
      "+---+----+-----------+\n",
      "|18+|1966|        8.8|\n",
      "| 7+|1985|        8.5|\n",
      "|13+|1968|        8.5|\n",
      "|18+|1989|        8.5|\n",
      "| 7+|1981|        8.4|\n",
      "+---+----+-----------+\n",
      "only showing top 5 rows\n",
      "\n"
     ]
    }
   ],
   "source": [
    "movie_data.filter(col(\"Netflix\") == 1).groupBy([\"Age\",\"Year\"]).agg(round(mean(\"IMDb\"),2)).\\\n",
    "withColumnRenamed(\"round(avg(IMDb), 2)\",\"Mean_rating\").sort(desc(\"Mean_rating\")).show(5)"
   ]
  },
  {
   "cell_type": "markdown",
   "metadata": {},
   "source": [
    "**Structured Streaming**\n"
   ]
  },
  {
   "cell_type": "markdown",
   "metadata": {},
   "source": [
    "maxFilesPerTrigger option, which simply specifies the number of files we should read in at once. This is to make our demonstration more “streaming,” and in a production scenario this would probably be omitted"
   ]
  },
  {
   "cell_type": "code",
   "execution_count": 11,
   "metadata": {},
   "outputs": [],
   "source": [
    "streamingDataFrame = spark.readStream\\\n",
    "    .schema(movie_data.schema)\\\n",
    "    .option(\"maxFilesPerTrigger\", 1)\\\n",
    "    .format(\"csv\")\\\n",
    "    .option(\"header\", \"true\")\\\n",
    "    .load(\"C:/Users/ramya/Desktop/Santa_Clara_University/Projects/TODO/Moviesallstreaming/MoviesOnStreamingPlatforms_updated.csv\")"
   ]
  },
  {
   "cell_type": "code",
   "execution_count": 12,
   "metadata": {},
   "outputs": [
    {
     "data": {
      "text/plain": [
       "True"
      ]
     },
     "execution_count": 12,
     "metadata": {},
     "output_type": "execute_result"
    }
   ],
   "source": [
    "streamingDataFrame.isStreaming"
   ]
  },
  {
   "cell_type": "markdown",
   "metadata": {},
   "source": [
    "**WHICH MOVIE IS PRESENT IN ALL PLATFORMS**"
   ]
  },
  {
   "cell_type": "code",
   "execution_count": 13,
   "metadata": {},
   "outputs": [],
   "source": [
    "movie_data=movie_data.withColumn(\"No_of_platforms\",col(\"Netflix\")+col(\"Hulu\")+col(\"Prime Video\")+ col(\"Disney+\"))"
   ]
  },
  {
   "cell_type": "markdown",
   "metadata": {},
   "source": [
    "NO movie is present in all 4 platforms but the below are present in 3 of them"
   ]
  },
  {
   "cell_type": "markdown",
   "metadata": {},
   "source": [
    "select and selectExpr allow you to do the DataFrame equivalent of SQL queries on a table of data"
   ]
  },
  {
   "cell_type": "code",
   "execution_count": 14,
   "metadata": {},
   "outputs": [
    {
     "name": "stdout",
     "output_type": "stream",
     "text": [
      "+--------------------+----+---------------+\n",
      "|               Title|IMDb|Rotten Tomatoes|\n",
      "+--------------------+----+---------------+\n",
      "|                 Amy| 7.8|            95%|\n",
      "|          The Square| 8.1|           100%|\n",
      "|       The Interview| 6.5|            52%|\n",
      "|              Blame!| 6.7|            82%|\n",
      "|           Evolution| 6.1|            43%|\n",
      "|No Game No Life: ...| 7.5|           null|\n",
      "|              Zapped| 5.1|           null|\n",
      "|              Mother| 5.6|           null|\n",
      "|             The Kid| 5.9|            45%|\n",
      "|          Inside Out| 4.5|            25%|\n",
      "+--------------------+----+---------------+\n",
      "\n"
     ]
    }
   ],
   "source": [
    "movie_data.where(col(\"No_of_platforms\")==3).select(\"Title\",\"IMDb\",\"Rotten Tomatoes\").show()"
   ]
  },
  {
   "cell_type": "markdown",
   "metadata": {},
   "source": [
    "**EACH YEAR IMDB TOP MOST RATED MOVIES**"
   ]
  },
  {
   "cell_type": "code",
   "execution_count": 15,
   "metadata": {},
   "outputs": [
    {
     "name": "stdout",
     "output_type": "stream",
     "text": [
      "+----+-------------------------------------------------------------------------------------------+----+---------------+\n",
      "|Year|Title                                                                                      |IMDb|Rotten Tomatoes|\n",
      "+----+-------------------------------------------------------------------------------------------+----+---------------+\n",
      "|2020|Sufna                                                                                      |8.2 |null           |\n",
      "|2019|Square One                                                                                 |9.3 |null           |\n",
      "|2019|My Next Guest with David Letterman and Shah Rukh Khan                                      |9.3 |null           |\n",
      "|2018|Operation Toussaint: Operation Underground Railroad and the Fight to End Modern Day Slavery|8.8 |null           |\n",
      "|2017|Where's Daddy?                                                                             |9.1 |null           |\n",
      "|2016|Natsamrat                                                                                  |9.1 |null           |\n",
      "|2015|Down, But Not Out!                                                                         |9.3 |null           |\n",
      "|2014|Machine Gun Preacher Documentary                                                           |8.8 |null           |\n",
      "|2014|Weaving the Past: Journey of Discovery                                                     |8.8 |null           |\n",
      "|2013|Finding Family                                                                             |9.1 |null           |\n",
      "|2012|The Creators                                                                               |8.9 |null           |\n",
      "|2011|Love on a Leash                                                                            |9.3 |null           |\n",
      "|2011|Bounty                                                                                     |9.3 |null           |\n",
      "|2010|Ruby's Studio: the Feelings Show                                                           |8.8 |null           |\n",
      "|2010|Inception                                                                                  |8.8 |87%            |\n",
      "|2009|First Flight: A Mother Hummingbird's Story                                                 |8.8 |null           |\n",
      "|2009|C. H. Spurgeon: The People's Preacher                                                      |8.8 |null           |\n",
      "|2008|The Dark Knight                                                                            |9.0 |94%            |\n",
      "|2007|Going on 13                                                                                |8.8 |null           |\n",
      "|2006|Into The Fire                                                                              |8.8 |null           |\n",
      "+----+-------------------------------------------------------------------------------------------+----+---------------+\n",
      "only showing top 20 rows\n",
      "\n"
     ]
    }
   ],
   "source": [
    "w = Window.partitionBy('Year')\n",
    "\n",
    "\n",
    "movie_data.withColumn('max_R', f.max('IMDb').over(w))\\\n",
    "    .where(f.col('IMDb') == f.col('max_R'))\\\n",
    "    .drop('max_R')\\\n",
    "    .select(\"Year\",\"Title\",\"IMDb\",\"Rotten Tomatoes\").sort(desc(\"Year\")).show(truncate=False)"
   ]
  },
  {
   "cell_type": "markdown",
   "metadata": {},
   "source": [
    "**EACH YEAR IMDB TOP MOST RATED MOVIES IN NETFLIX**"
   ]
  },
  {
   "cell_type": "code",
   "execution_count": 16,
   "metadata": {},
   "outputs": [
    {
     "name": "stdout",
     "output_type": "stream",
     "text": [
      "+----+---------------------------------------------------------------------+----+---------------+\n",
      "|Year|Title                                                                |IMDb|Rotten Tomatoes|\n",
      "+----+---------------------------------------------------------------------+----+---------------+\n",
      "|2020|A Secret Love                                                        |8.1 |null           |\n",
      "|2019|My Next Guest with David Letterman and Shah Rukh Khan                |9.3 |null           |\n",
      "|2018|Untamed Romania                                                      |8.7 |null           |\n",
      "|2017|One Heart: The A.R. Rahman Concert Film                              |8.7 |null           |\n",
      "|2016|Natsamrat                                                            |9.1 |null           |\n",
      "|2015|Eh Janam Tumhare Lekhe                                               |8.7 |null           |\n",
      "|2014|Punjab 1984                                                          |8.5 |null           |\n",
      "|2013|Bo Burnham: What.                                                    |8.5 |null           |\n",
      "|2012|Django Unchained                                                     |8.4 |87%            |\n",
      "|2011|Tim Minchin and the Heritage Orchestra: Live at the Royal Albert Hall|8.5 |null           |\n",
      "|2010|Inception                                                            |8.8 |87%            |\n",
      "|2009|3 Idiots                                                             |8.4 |100%           |\n",
      "|2009|Harishchandrachi Factory                                             |8.4 |null           |\n",
      "|2008|A Wednesday!                                                         |8.1 |null           |\n",
      "|2008|Tim Minchin: So F**king Rock Live                                    |8.1 |null           |\n",
      "|2007|Like Stars on Earth                                                  |8.4 |91%            |\n",
      "|2006|Khosla Ka Ghosla!                                                    |8.3 |null           |\n",
      "|2005|Sin City                                                             |8.0 |77%            |\n",
      "|2004|Swades                                                               |8.2 |83%            |\n",
      "|2003|Kal Ho Naa Ho                                                        |8.0 |70%            |\n",
      "+----+---------------------------------------------------------------------+----+---------------+\n",
      "only showing top 20 rows\n",
      "\n"
     ]
    }
   ],
   "source": [
    "movie_data.filter(col(\"Netflix\") == 1).withColumn('max_R', f.max('IMDb').over(w))\\\n",
    "    .where(f.col('IMDb') == f.col('max_R'))\\\n",
    "    .drop('max_R')\\\n",
    "    .select(\"Year\",\"Title\",\"IMDb\",\"Rotten Tomatoes\").sort(desc(\"Year\")).show(truncate=False)"
   ]
  },
  {
   "cell_type": "markdown",
   "metadata": {},
   "source": [
    "**COUNT OF MOVIES IN EACH PLATFORM YEAR WISE AFTER 2000 having rating above 5**"
   ]
  },
  {
   "cell_type": "code",
   "execution_count": 17,
   "metadata": {},
   "outputs": [
    {
     "name": "stdout",
     "output_type": "stream",
     "text": [
      "+----+-----------------------+--------------------+\n",
      "|Year|Count_of_movies_Netflix|Count_of_movies_Hulu|\n",
      "+----+-----------------------+--------------------+\n",
      "|2020|                     82|                   4|\n",
      "|2019|                    337|                  90|\n",
      "|2018|                    468|                 132|\n",
      "|2017|                    481|                 104|\n",
      "|2016|                    370|                  51|\n",
      "+----+-----------------------+--------------------+\n",
      "only showing top 5 rows\n",
      "\n"
     ]
    }
   ],
   "source": [
    "movie_data.where(col(\"Year\") > 2000).where(col(\"IMDb\") >= 5).groupBy(\"Year\").agg(sum(\"Netflix\"),sum(\"Hulu\")).sort(desc(\"Year\")).\\\n",
    "withColumnRenamed(\"sum(Netflix)\",\"Count_of_movies_Netflix\").withColumnRenamed(\"sum(Hulu)\",\"Count_of_movies_Hulu\").show(5)"
   ]
  },
  {
   "cell_type": "markdown",
   "metadata": {},
   "source": [
    "**COUNT OF DISTINCT DIRECTORS IN EACH PLATFORM YEAR WISE AFTER 2000**"
   ]
  },
  {
   "cell_type": "code",
   "execution_count": 18,
   "metadata": {},
   "outputs": [
    {
     "data": {
      "text/plain": [
       "9213"
      ]
     },
     "execution_count": 18,
     "metadata": {},
     "output_type": "execute_result"
    }
   ],
   "source": [
    "movie_data.where(col(\"Year\") > 2000).select(\"Directors\").distinct().count()"
   ]
  },
  {
   "cell_type": "markdown",
   "metadata": {},
   "source": [
    "**WHICH YEAR WERE HIGHEST COUNT OF MOVIES PRESENT IN ALL THE PLATFORMS TOGETHER**"
   ]
  },
  {
   "cell_type": "code",
   "execution_count": 19,
   "metadata": {},
   "outputs": [
    {
     "name": "stdout",
     "output_type": "stream",
     "text": [
      "+----+------------+\n",
      "|Year|Count_of_all|\n",
      "+----+------------+\n",
      "|2017|        1478|\n",
      "|2018|        1358|\n",
      "+----+------------+\n",
      "only showing top 2 rows\n",
      "\n"
     ]
    }
   ],
   "source": [
    "movie_data.where(col(\"Year\") > 2000).groupBy(\"Year\").\\\n",
    "agg(sum(\"Netflix\"),sum(\"Hulu\"),sum(\"Prime Video\"),sum(\"Disney+\")).\\\n",
    "withColumn(\"Count_of_all\", col(\"sum(Netflix)\")+col(\"sum(Hulu)\")+col(\"sum(Prime Video)\")+col(\"sum(Disney+)\")).\\\n",
    "sort(desc(\"Count_of_all\")).select(col(\"Year\"),col(\"Count_of_all\")).show(2)"
   ]
  },
  {
   "cell_type": "markdown",
   "metadata": {},
   "source": [
    "**WHICH YEAR WERE HIGHEST RATED MOVIES PRESENT IN ALL THE PLATFORMS TOGETHER**"
   ]
  },
  {
   "cell_type": "code",
   "execution_count": 20,
   "metadata": {
    "scrolled": true
   },
   "outputs": [
    {
     "name": "stdout",
     "output_type": "stream",
     "text": [
      "+----+-----------------+\n",
      "|Year|   Average_rating|\n",
      "+----+-----------------+\n",
      "|2020|6.175000000000001|\n",
      "|2002|6.065608465608464|\n",
      "+----+-----------------+\n",
      "only showing top 2 rows\n",
      "\n"
     ]
    }
   ],
   "source": [
    "movie_data.where(col(\"Year\") > 2000).groupBy(\"Year\").\\\n",
    "agg(mean(\"IMDb\")).\\\n",
    "withColumnRenamed(\"avg(IMDb)\",\"Average_rating\").\\\n",
    "sort(desc(\"Average_rating\")).select(col(\"Year\"),col(\"Average_rating\")).show(2)"
   ]
  },
  {
   "cell_type": "markdown",
   "metadata": {},
   "source": [
    "**HOW DID THE DURATION OF MOVIES CHANGED ACROSS YEARS-FINDING DURATION OF TOP RATED MOVIES AND LEAST RATED MOVIES**"
   ]
  },
  {
   "cell_type": "code",
   "execution_count": 21,
   "metadata": {},
   "outputs": [],
   "source": [
    "movie_h=movie_data.withColumn(\"High_or_low\", when(col(\"IMDb\")>=5, \"Highly_rated\").otherwise(\"Low_rated\")).\\\n",
    "where(col(\"High_or_low\")==\"Highly_rated\").groupBy(\"Year\").agg(round(mean(\"Runtime\"),2)).\\\n",
    "withColumnRenamed(\"round(avg(Runtime), 2)\",\"Avg_rating_of_highly_rated_movies\").sort(desc((\"Year\")))"
   ]
  },
  {
   "cell_type": "code",
   "execution_count": 22,
   "metadata": {},
   "outputs": [],
   "source": [
    "movie_l=movie_data.withColumn(\"High_or_low\", when(col(\"IMDb\")>=5, \"Highly_rated\").otherwise(\"Low_rated\")).\\\n",
    "where(col(\"High_or_low\")==\"Low_rated\").groupBy(\"Year\").agg(round(mean(\"Runtime\"),2)).\\\n",
    "withColumnRenamed(\"round(avg(Runtime), 2)\",\"Avg_rating_of_low_rated_movies\").sort(desc((\"Year\")))"
   ]
  },
  {
   "cell_type": "code",
   "execution_count": 23,
   "metadata": {},
   "outputs": [
    {
     "name": "stdout",
     "output_type": "stream",
     "text": [
      "+----+---------------------------------+------------------------------+\n",
      "|Year|Avg_rating_of_highly_rated_movies|Avg_rating_of_low_rated_movies|\n",
      "+----+---------------------------------+------------------------------+\n",
      "|2020|                            93.69|                         95.16|\n",
      "|2019|                            94.54|                         89.04|\n",
      "|2018|                            97.88|                         85.96|\n",
      "|2017|                            96.01|                         89.42|\n",
      "|2016|                            94.74|                         91.97|\n",
      "|2015|                            94.21|                          89.1|\n",
      "|2014|                            94.63|                         88.95|\n",
      "|2013|                            92.36|                         88.97|\n",
      "|2012|                            91.61|                         87.49|\n",
      "|2011|                            94.53|                         86.86|\n",
      "|2010|                            93.12|                         92.29|\n",
      "|2009|                            97.12|                         90.01|\n",
      "|2008|                            95.16|                         92.65|\n",
      "|2007|                            99.42|                         88.33|\n",
      "|2006|                            97.48|                         92.19|\n",
      "|2005|                            99.27|                         93.26|\n",
      "|2004|                            97.91|                         99.63|\n",
      "|2003|                            99.03|                         97.24|\n",
      "|2002|                            99.54|                         98.75|\n",
      "|2001|                           100.03|                         91.76|\n",
      "+----+---------------------------------+------------------------------+\n",
      "only showing top 20 rows\n",
      "\n"
     ]
    }
   ],
   "source": [
    "movie_h.join(movie_l, 'Year').sort(desc(\"Year\")).show()"
   ]
  },
  {
   "cell_type": "markdown",
   "metadata": {},
   "source": [
    "**ENGLISH AND NON ENGLISH MOVIES AVERAGE RATING**"
   ]
  },
  {
   "cell_type": "code",
   "execution_count": 24,
   "metadata": {},
   "outputs": [
    {
     "name": "stdout",
     "output_type": "stream",
     "text": [
      "+-----------------+\n",
      "|        avg(IMDb)|\n",
      "+-----------------+\n",
      "|5.822641363881808|\n",
      "+-----------------+\n",
      "\n"
     ]
    }
   ],
   "source": [
    "descripFilter = instr(lower(movie_data.Language), \"english\") >= 1\n",
    "movie_data.where(descripFilter).agg(mean(col(\"IMDb\"))).show()"
   ]
  },
  {
   "cell_type": "code",
   "execution_count": 25,
   "metadata": {},
   "outputs": [
    {
     "name": "stdout",
     "output_type": "stream",
     "text": [
      "+-----------------+\n",
      "|        avg(IMDb)|\n",
      "+-----------------+\n",
      "|6.260852713178291|\n",
      "+-----------------+\n",
      "\n"
     ]
    }
   ],
   "source": [
    "movie_data.where(~descripFilter).agg(mean(col(\"IMDb\"))).show()"
   ]
  },
  {
   "cell_type": "markdown",
   "metadata": {},
   "source": [
    "**NUMBER OF MOVIES WHICH FOLLOW A CRITERIA**"
   ]
  },
  {
   "cell_type": "code",
   "execution_count": 26,
   "metadata": {},
   "outputs": [],
   "source": [
    "descripFilter = instr(lower(movie_data.Language), \"english\") >= 1\n",
    "countfilter= instr(lower(col(\"Country\")), \"united states\") >= 1\n",
    "genrefilter= instr(upper(col(\"Genres\")),\"ACTION\")>= 1"
   ]
  },
  {
   "cell_type": "code",
   "execution_count": 27,
   "metadata": {},
   "outputs": [
    {
     "data": {
      "text/plain": [
       "10303"
      ]
     },
     "execution_count": 27,
     "metadata": {},
     "output_type": "execute_result"
    }
   ],
   "source": [
    "movie_data.withColumn(\"Criteria\", countfilter & (descripFilter | genrefilter))\\\n",
    "  .where(\"Criteria\")\\\n",
    "  .count()"
   ]
  },
  {
   "cell_type": "markdown",
   "metadata": {},
   "source": [
    "**CORRELATION DURATION AND RATING**"
   ]
  },
  {
   "cell_type": "code",
   "execution_count": 28,
   "metadata": {
    "scrolled": true
   },
   "outputs": [
    {
     "data": {
      "text/plain": [
       "0.22394511701216854"
      ]
     },
     "execution_count": 28,
     "metadata": {},
     "output_type": "execute_result"
    }
   ],
   "source": [
    "from pyspark.sql.functions import corr\n",
    "movie_data.stat.corr(\"Runtime\", \"IMDb\")"
   ]
  },
  {
   "cell_type": "markdown",
   "metadata": {},
   "source": [
    "**HOW MANY UNIQUE GENRES**"
   ]
  },
  {
   "cell_type": "code",
   "execution_count": 29,
   "metadata": {},
   "outputs": [
    {
     "data": {
      "text/plain": [
       "27"
      ]
     },
     "execution_count": 29,
     "metadata": {},
     "output_type": "execute_result"
    }
   ],
   "source": [
    "movie_data.withColumn(\"Genres_all\",split((\"Genres\"),\",\")).drop(\"Genres\").select(explode(\"Genres_all\")).distinct().count()"
   ]
  },
  {
   "cell_type": "markdown",
   "metadata": {},
   "source": [
    "**HOW MANY UNIQUE LANGUAGES**"
   ]
  },
  {
   "cell_type": "code",
   "execution_count": 30,
   "metadata": {},
   "outputs": [],
   "source": [
    "lang_count=movie_data.withColumn(\"Lang_all\",split((\"Language\"),\",\")).drop(\"Language\").select(explode(\"Lang_all\")).distinct().count()"
   ]
  },
  {
   "cell_type": "code",
   "execution_count": 31,
   "metadata": {},
   "outputs": [
    {
     "data": {
      "text/plain": [
       "178"
      ]
     },
     "execution_count": 31,
     "metadata": {},
     "output_type": "execute_result"
    }
   ],
   "source": [
    "lang_count"
   ]
  },
  {
   "cell_type": "markdown",
   "metadata": {},
   "source": [
    "**MOVIES PER LANGUAGE**"
   ]
  },
  {
   "cell_type": "code",
   "execution_count": 32,
   "metadata": {},
   "outputs": [
    {
     "name": "stdout",
     "output_type": "stream",
     "text": [
      "+--------+-----+\n",
      "|Lang_all|count|\n",
      "+--------+-----+\n",
      "| English|13233|\n",
      "| Spanish|  872|\n",
      "|  French|  799|\n",
      "|   Hindi|  731|\n",
      "|  German|  483|\n",
      "+--------+-----+\n",
      "only showing top 5 rows\n",
      "\n"
     ]
    }
   ],
   "source": [
    "movie_data.withColumn(\"Lang_all\",explode(split((\"Language\"),\",\"))).drop(\"Language\").groupBy('Lang_all').count().sort(desc(\"count\")).show(5)"
   ]
  },
  {
   "cell_type": "markdown",
   "metadata": {},
   "source": [
    "**TOP MOST GENRE BY COUNT PER LANGUAGE**"
   ]
  },
  {
   "cell_type": "code",
   "execution_count": 33,
   "metadata": {},
   "outputs": [],
   "source": [
    "gen_lan=movie_data.withColumn(\"Lang_all\",explode(split((\"Language\"),\",\"))).withColumn(\"Genre_all\",explode(split((\"Genres\"),\",\"))).\\\n",
    "withColumn(\"Number\", lit(1)).select(\"Lang_all\",\"Genre_all\",\"Number\")"
   ]
  },
  {
   "cell_type": "code",
   "execution_count": 34,
   "metadata": {},
   "outputs": [
    {
     "name": "stdout",
     "output_type": "stream",
     "text": [
      "+--------+---------+\n",
      "|Lang_all|Genre_all|\n",
      "+--------+---------+\n",
      "|English |Drama    |\n",
      "|Hindi   |Drama    |\n",
      "|French  |Drama    |\n",
      "|Spanish |Drama    |\n",
      "|German  |Drama    |\n",
      "+--------+---------+\n",
      "only showing top 5 rows\n",
      "\n"
     ]
    }
   ],
   "source": [
    "w = Window.partitionBy('Lang_all')\n",
    "\n",
    "gen_lan.groupBy(\"Lang_all\",\"Genre_all\").count().withColumn('Max_count', f.max('count').over(w)).\\\n",
    "where(f.col('count') == f.col('Max_count')).sort(desc(\"Max_count\")).select(\"Lang_all\",\"Genre_all\").\\\n",
    "show(5,truncate=False)"
   ]
  },
  {
   "cell_type": "markdown",
   "metadata": {},
   "source": [
    "**OTHER THAN US,AUSTRALIA AND UK WHICH COUNTRIES HAVE ENGLISH MOVIES**"
   ]
  },
  {
   "cell_type": "code",
   "execution_count": 35,
   "metadata": {},
   "outputs": [],
   "source": [
    "filter1=instr(lower(movie_data.Country), \"united states\") == 0\n",
    "filter2=instr(lower(movie_data.Country), \"kingdom\") == 0\n",
    "filter3=instr(lower(movie_data.Country), \"australia\") == 0\n",
    "filter4=instr(lower(movie_data.Language), \"english\") >= 1"
   ]
  },
  {
   "cell_type": "code",
   "execution_count": 36,
   "metadata": {},
   "outputs": [
    {
     "data": {
      "text/plain": [
       "1559"
      ]
     },
     "execution_count": 36,
     "metadata": {},
     "output_type": "execute_result"
    }
   ],
   "source": [
    "movie_data.withColumn(\"Criteria\", filter4 & (filter1 & (filter2 & filter3)))\\\n",
    "  .where(\"Criteria\").count()"
   ]
  },
  {
   "cell_type": "code",
   "execution_count": 37,
   "metadata": {},
   "outputs": [
    {
     "name": "stdout",
     "output_type": "stream",
     "text": [
      "+------------+-----+\n",
      "| Country_all|count|\n",
      "+------------+-----+\n",
      "|      Canada|  597|\n",
      "|      France|  171|\n",
      "|       India|  150|\n",
      "|     Germany|  136|\n",
      "|       Italy|  107|\n",
      "|       Spain|   66|\n",
      "|   Hong Kong|   52|\n",
      "|     Ireland|   47|\n",
      "|     Belgium|   42|\n",
      "|South Africa|   37|\n",
      "| Netherlands|   37|\n",
      "|       China|   34|\n",
      "|      Sweden|   32|\n",
      "|       Japan|   32|\n",
      "|     Denmark|   30|\n",
      "| South Korea|   30|\n",
      "|      Mexico|   26|\n",
      "| New Zealand|   25|\n",
      "|     Nigeria|   22|\n",
      "| Philippines|   20|\n",
      "+------------+-----+\n",
      "only showing top 20 rows\n",
      "\n"
     ]
    }
   ],
   "source": [
    "movie_data.withColumn(\"Criteria\", filter4 & (filter1 & (filter2 & filter3)))\\\n",
    "  .where(\"Criteria\").withColumn(\"Lang_all\",explode(split((\"Language\"),\",\"))).withColumn(\"Country_all\",explode(split((\"Country\"),\",\")))\\\n",
    ".select(\"Lang_all\",\"Country_all\").filter(col(\"Lang_all\")==\"English\").groupBy(\"Country_all\").count().sort(desc(\"count\")).show()"
   ]
  },
  {
   "cell_type": "markdown",
   "metadata": {},
   "source": [
    "**WHICH MOVIE INTO MANY LANGUAGES**"
   ]
  },
  {
   "cell_type": "code",
   "execution_count": 38,
   "metadata": {},
   "outputs": [],
   "source": [
    "movie_data=movie_data.withColumn(\"Lang_all\",size(split((\"Language\"),\",\")))"
   ]
  },
  {
   "cell_type": "code",
   "execution_count": 39,
   "metadata": {},
   "outputs": [],
   "source": [
    "max_count=movie_data.agg({\"Lang_all\": \"max\"}).collect()[0][0]"
   ]
  },
  {
   "cell_type": "code",
   "execution_count": 40,
   "metadata": {},
   "outputs": [
    {
     "name": "stdout",
     "output_type": "stream",
     "text": [
      "+-----+\n",
      "|Title|\n",
      "+-----+\n",
      "| 2012|\n",
      "+-----+\n",
      "\n"
     ]
    }
   ],
   "source": [
    "movie_data.filter(f.col('Lang_all') == max_count).select(\"Title\").show()"
   ]
  },
  {
   "cell_type": "markdown",
   "metadata": {},
   "source": [
    "**HOW MANY MOVIES HAVE ENGLISH AS THEIR TRANSLATED LANGUAGE(not the first name in list)**"
   ]
  },
  {
   "cell_type": "code",
   "execution_count": 41,
   "metadata": {},
   "outputs": [
    {
     "data": {
      "text/plain": [
       "705"
      ]
     },
     "execution_count": 41,
     "metadata": {},
     "output_type": "execute_result"
    }
   ],
   "source": [
    "movie_data.withColumn(\"Lang_all\",size(split((\"Language\"),\",\"))).filter(col(\"Lang_all\")>1).\\\n",
    "withColumn(\"xyz\",(split((\"Language\"),\",\"))).withColumn(\"abc\",f.slice(f.col(\"xyz\"), 2, max_count)).\\\n",
    "where(array_contains(col(\"abc\"),\"English\")).count()"
   ]
  },
  {
   "cell_type": "markdown",
   "metadata": {},
   "source": [
    "**REGEX REPLACE USAGE**"
   ]
  },
  {
   "cell_type": "code",
   "execution_count": 42,
   "metadata": {},
   "outputs": [
    {
     "name": "stdout",
     "output_type": "stream",
     "text": [
      "+-----------+----------+\n",
      "|color_clean|     Title|\n",
      "+-----------+----------+\n",
      "|  Inception| Inception|\n",
      "| The Matrix|The Matrix|\n",
      "+-----------+----------+\n",
      "only showing top 2 rows\n",
      "\n"
     ]
    }
   ],
   "source": [
    "from pyspark.sql.functions import regexp_replace\n",
    "regex_string = \"BLACK|WHITE|RED|GREEN|BLUE\"\n",
    "movie_data.select(regexp_replace(col(\"Title\"), regex_string, \"COLOR\").alias(\"color_clean\"),col(\"Title\")).show(2)"
   ]
  },
  {
   "cell_type": "code",
   "execution_count": 43,
   "metadata": {},
   "outputs": [
    {
     "name": "stdout",
     "output_type": "stream",
     "text": [
      "+----------+-----+\n",
      "|       key|value|\n",
      "+----------+-----+\n",
      "| Inception| 2010|\n",
      "|The Matrix| 1999|\n",
      "+----------+-----+\n",
      "only showing top 2 rows\n",
      "\n"
     ]
    }
   ],
   "source": [
    "from pyspark.sql.functions import create_map\n",
    "movie_data.select(create_map(col(\"Title\"), col(\"Year\")).alias(\"complex_map\"))\\\n",
    ".selectExpr(\"explode(complex_map)\").show(2)"
   ]
  },
  {
   "cell_type": "markdown",
   "metadata": {},
   "source": [
    "**WHICH LANGUAGE HAS SO MANY CRIME THRILLERS**"
   ]
  },
  {
   "cell_type": "code",
   "execution_count": 45,
   "metadata": {},
   "outputs": [],
   "source": [
    "filter1=instr(lower(movie_data.Genres), \"crime\") >= 1\n",
    "filter2=instr(lower(movie_data.Genres), \"thriller\") >=1"
   ]
  },
  {
   "cell_type": "code",
   "execution_count": 50,
   "metadata": {},
   "outputs": [
    {
     "name": "stdout",
     "output_type": "stream",
     "text": [
      "+---------+---------------+\n",
      "| Lang_all|count(Criteria)|\n",
      "+---------+---------------+\n",
      "|  English|           3518|\n",
      "|Afrikaans|              8|\n",
      "|    Xhosa|              2|\n",
      "| Hawaiian|              1|\n",
      "|  Swedish|             26|\n",
      "+---------+---------------+\n",
      "only showing top 5 rows\n",
      "\n"
     ]
    }
   ],
   "source": [
    "movie_data.withColumn(\"Criteria\", filter1 | filter2).where(\"Criteria\").\\\n",
    "withColumn(\"Lang_all\",explode(split((\"Language\"),\",\"))).select(\"Lang_all\",\"Criteria\").groupBy(\"Lang_all\").agg(count(\"Criteria\")).show(5)"
   ]
  },
  {
   "cell_type": "markdown",
   "metadata": {},
   "source": [
    "**TOP MOST GENRE BY AVERAGE RATING PER LANGUAGE**"
   ]
  },
  {
   "cell_type": "code",
   "execution_count": 60,
   "metadata": {},
   "outputs": [],
   "source": [
    "gen_lan=movie_data.withColumn(\"Lang_all\",explode(split((\"Language\"),\",\"))).\\\n",
    "withColumn(\"Genre_all\",explode(split((\"Genres\"),\",\"))).select(\"Lang_all\",\"Genre_all\",\"IMDb\").\\\n",
    "groupBy(\"Genre_all\",\"Lang_all\").agg(round(mean(\"IMDb\"),2).alias(\"Rating\"))"
   ]
  },
  {
   "cell_type": "code",
   "execution_count": 63,
   "metadata": {
    "scrolled": true
   },
   "outputs": [
    {
     "name": "stdout",
     "output_type": "stream",
     "text": [
      "+---------+---------+\n",
      "|Lang_all |Genre_all|\n",
      "+---------+---------+\n",
      "|Polish   |Sport    |\n",
      "|Bosnian  |History  |\n",
      "|Bosnian  |Family   |\n",
      "|Xhosa    |News     |\n",
      "|Afrikaans|Music    |\n",
      "+---------+---------+\n",
      "only showing top 5 rows\n",
      "\n"
     ]
    }
   ],
   "source": [
    "w = Window.partitionBy('Lang_all')\n",
    "\n",
    "gen_lan.withColumn('Max_rating', f.max('Rating').over(w)).\\\n",
    "where(f.col('Rating') == f.col('Max_rating')).sort(desc(\"Max_rating\")).select(\"Lang_all\",\"Genre_all\").\\\n",
    "show(5,truncate=False)"
   ]
  },
  {
   "cell_type": "markdown",
   "metadata": {},
   "source": [
    "**WHAT ARE THE HIGH RATED KIDS(7+) MOVIES EVERY YEAR**"
   ]
  },
  {
   "cell_type": "code",
   "execution_count": 66,
   "metadata": {
    "scrolled": true
   },
   "outputs": [],
   "source": [
    "gen_lan=movie_data.filter(col(\"Age\")==\"7+\")\n",
    "\n",
    "w = Window.partitionBy('Year')"
   ]
  },
  {
   "cell_type": "code",
   "execution_count": 70,
   "metadata": {},
   "outputs": [
    {
     "name": "stdout",
     "output_type": "stream",
     "text": [
      "+----------------------------------+----+----+\n",
      "|Title                             |Year|IMDb|\n",
      "+----------------------------------+----+----+\n",
      "|Untamed Romania                   |2018|8.7 |\n",
      "|Star Wars: The Empire Strikes Back|1980|8.7 |\n",
      "|Slednecks 13                      |2010|8.6 |\n",
      "|Fabulous Frogs                    |2014|8.6 |\n",
      "|It's a Wonderful Life             |1946|8.6 |\n",
      "+----------------------------------+----+----+\n",
      "only showing top 5 rows\n",
      "\n"
     ]
    }
   ],
   "source": [
    "gen_lan.withColumn('Max_rating', f.max('IMDb').over(w)).\\\n",
    "where(f.col('IMDb') == f.col('Max_rating')).sort(desc(\"Max_rating\")).select(\"Title\",\"Year\",\"IMDb\").\\\n",
    "show(5,truncate=False)"
   ]
  },
  {
   "cell_type": "code",
   "execution_count": 76,
   "metadata": {},
   "outputs": [],
   "source": [
    "pivoted = movie_data.groupBy(\"Year\").pivot(\"Genres\").sum()"
   ]
  },
  {
   "cell_type": "code",
   "execution_count": 80,
   "metadata": {
    "scrolled": false
   },
   "outputs": [
    {
     "name": "stdout",
     "output_type": "stream",
     "text": [
      "+----+---------------------------------------------+\n",
      "|Year|Thriller_sum(CAST(No_of_platforms AS BIGINT))|\n",
      "+----+---------------------------------------------+\n",
      "|2015|                                           18|\n",
      "|2008|                                            3|\n",
      "|2020|                                            5|\n",
      "|2019|                                           17|\n",
      "|2003|                                         null|\n",
      "|2012|                                           10|\n",
      "|2013|                                           12|\n",
      "|2004|                                            3|\n",
      "|2017|                                           14|\n",
      "|2002|                                            2|\n",
      "|2001|                                            2|\n",
      "|2009|                                           11|\n",
      "|2018|                                           23|\n",
      "|2016|                                           36|\n",
      "|2005|                                            1|\n",
      "|2014|                                           12|\n",
      "|2011|                                            4|\n",
      "|2007|                                            4|\n",
      "|2010|                                            7|\n",
      "|2006|                                            2|\n",
      "+----+---------------------------------------------+\n",
      "\n"
     ]
    }
   ],
   "source": [
    "pivoted.where(\"Year > 2000\").select(\"Year\" ,\"Thriller_sum(CAST(No_of_platforms AS BIGINT))\").show()"
   ]
  },
  {
   "cell_type": "code",
   "execution_count": null,
   "metadata": {},
   "outputs": [],
   "source": []
  }
 ],
 "metadata": {
  "kernelspec": {
   "display_name": "Python 3",
   "language": "python",
   "name": "python3"
  },
  "language_info": {
   "codemirror_mode": {
    "name": "ipython",
    "version": 3
   },
   "file_extension": ".py",
   "mimetype": "text/x-python",
   "name": "python",
   "nbconvert_exporter": "python",
   "pygments_lexer": "ipython3",
   "version": "3.7.3"
  }
 },
 "nbformat": 4,
 "nbformat_minor": 4
}
